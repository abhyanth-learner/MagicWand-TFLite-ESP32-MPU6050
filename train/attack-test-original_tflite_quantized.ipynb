{
  "cells": [
    {
      "cell_type": "markdown",
      "metadata": {
        "id": "view-in-github",
        "colab_type": "text"
      },
      "source": [
        "<a href=\"https://colab.research.google.com/github/abhyanth-learner/MagicWand-TFLite-ESP32-MPU6050/blob/1-05-2022/train/attack-test-original_tflite_quantized.ipynb\" target=\"_parent\"><img src=\"https://colab.research.google.com/assets/colab-badge.svg\" alt=\"Open In Colab\"/></a>"
      ]
    },
    {
      "cell_type": "markdown",
      "source": [
        "**IMPORT STATEMENTS**"
      ],
      "metadata": {
        "id": "yS5-_Yh1I79z"
      },
      "id": "yS5-_Yh1I79z"
    },
    {
      "cell_type": "code",
      "execution_count": 173,
      "id": "630e1908",
      "metadata": {
        "id": "630e1908"
      },
      "outputs": [],
      "source": [
        "import tensorflow as tf\n",
        "import numpy as np\n",
        "import matplotlib.pyplot as plt\n",
        "np.random.seed(5)\n",
        "import random\n",
        "import pandas as pd\n",
        "import pickle"
      ]
    },
    {
      "cell_type": "markdown",
      "source": [
        "**ORIGINAL MODEL** \n",
        "1. .h5 file calling\n",
        "2. attack vector generation and implemtation on        original .h5 file\n",
        "3. plotting  of the results\n",
        "4. saving the attack vectors in pickle format\n",
        "\n",
        "\n",
        "\n",
        "\n"
      ],
      "metadata": {
        "id": "5lFxXiISJ9Tl"
      },
      "id": "5lFxXiISJ9Tl"
    },
    {
      "cell_type": "code",
      "execution_count": 187,
      "id": "736c5cba",
      "metadata": {
        "colab": {
          "base_uri": "https://localhost:8080/",
          "height": 282
        },
        "id": "736c5cba",
        "outputId": "5b14c781-0e99-4a94-96ce-ec4762c13fd4"
      },
      "outputs": [
        {
          "output_type": "display_data",
          "data": {
            "text/plain": [
              "<Figure size 432x288 with 1 Axes>"
            ],
            "image/png": "[encoded data removed]"
          },
          "metadata": {
            "needs_background": "light"
          }
        },
        {
          "output_type": "execute_result",
          "data": {
            "text/plain": [
              "((60000, 128, 3, 1), (60000,))"
            ]
          },
          "metadata": {},
          "execution_count": 187
        }
      ],
      "source": [
        "# load the model\n",
        "model=tf.keras.models.load_model(\"original.h5\")\n",
        "# Generating the attack vectors\n",
        "av1=np.random.randn(50000,128,3,1)\n",
        "av2=np.random.rand(10000,128,3,1)\n",
        "av=np.concatenate((av1,av2))\n",
        "#prediction using the attack vectors\n",
        "av_out=model.predict(av)\n",
        "# print(av_out)\n",
        "# av.shape,av_out.shape\n",
        "av_class=np.argmax(av_out,axis=1)\n",
        "# av_class\n",
        "# np.unique(av_class)\n",
        "plt.hist(av_class)\n",
        "plt.show()\n",
        "file = open('attack_vectors.pkl', 'wb')\n",
        "pickle.dump([av,av_class],file)\n",
        "file.close()\n",
        "pickle_off = open(\"attack_vectors.pkl\", 'rb')\n",
        "contents_pickle = pickle.load(pickle_off)\n",
        "contents_pickle[0].shape,contents_pickle[1].shape"
      ]
    },
    {
      "cell_type": "markdown",
      "source": [
        "**ORIGINAL TFLITE AND QUANTIZED MODEL** \n",
        "1. .tflite file calling\n",
        "2. attack implemtation on original tflite(including quantized) file\n",
        "3. plotting  of the results\n",
        "\n",
        "\n",
        "\n",
        "\n",
        "\n"
      ],
      "metadata": {
        "id": "FUJqywe2Kzqj"
      },
      "id": "FUJqywe2Kzqj"
    },
    {
      "cell_type": "code",
      "execution_count": 188,
      "id": "572451e9",
      "metadata": {
        "colab": {
          "base_uri": "https://localhost:8080/",
          "height": 573
        },
        "id": "572451e9",
        "outputId": "723c3896-6ac1-4efa-dd89-1d4a7382fd82"
      },
      "outputs": [
        {
          "output_type": "display_data",
          "data": {
            "text/plain": [
              "<Figure size 432x288 with 1 Axes>"
            ],
            "image/png": "[encoded data removed]"
          },
          "metadata": {
            "needs_background": "light"
          }
        },
        {
          "output_type": "display_data",
          "data": {
            "text/plain": [
              "<Figure size 432x288 with 1 Axes>"
            ],
            "image/png": "[encoded data removed]"
          },
          "metadata": {
            "needs_background": "light"
          }
        }
      ],
      "source": [
        "# Instantiate an interpreter for each model\n",
        "gesture_model = tf.lite.Interpreter('model.tflite')\n",
        "gesture_model_quantized = tf.lite.Interpreter('model_quantized.tflite')\n",
        "\n",
        "# Allocate memory for each model\n",
        "gesture_model.allocate_tensors()\n",
        "gesture_model_quantized.allocate_tensors()\n",
        "\n",
        "# Get indexes of the input and output tensors\n",
        "gesture_model_input_index = gesture_model.get_input_details()[0][\"index\"]\n",
        "gesture_model_output_index = gesture_model.get_output_details()[0][\"index\"]\n",
        "gesture_model_quantized_input_index = gesture_model_quantized.get_input_details()[0][\"index\"]\n",
        "gesture_model_quantized_output_index = \\\n",
        "gesture_model_quantized.get_output_details()[0][\"index\"]\n",
        "# gesture_model_input_index,gesture_model_output_index\n",
        "# Create arrays to store the results\n",
        "gesture_model_predictions = []\n",
        "gesture_model_quantized_predictions = []\n",
        "av1=np.random.randn(5000,128,3,1)\n",
        "av2=np.random.rand(1000,128,3,1)\n",
        "x_test=np.concatenate((av1,av2))\n",
        "# Run each model's interpreter for each value and store the results in arrays\n",
        "for x_value in x_test:\n",
        "#     print(len(x_value))\n",
        "    # Create a 2D tensor wrapping the current x value\n",
        "    x_value_tensor = tf.convert_to_tensor([x_value], dtype=np.float32)\n",
        "#     print(\"answer2:::::::;;\",x_value_tensor)\n",
        "    # Write the value to the input tensor\n",
        "    gesture_model.set_tensor(gesture_model_input_index, x_value_tensor)\n",
        "    # Run inference\n",
        "    gesture_model.invoke()\n",
        "   # Read the prediction from the output tensor\n",
        "    gesture_model_predictions.append(\n",
        "    gesture_model.get_tensor(gesture_model_output_index)[0])\n",
        "   # Do the same for the quantized model\n",
        "    gesture_model_quantized.set_tensor(gesture_model_quantized_input_index, x_value_tensor)\n",
        "    gesture_model_quantized.invoke()\n",
        "    gesture_model_quantized_predictions.append(\n",
        "    gesture_model_quantized.get_tensor(gesture_model_quantized_output_index)[0])\n",
        "# print(gesture_model_predictions)\n",
        "fig, ax = plt.subplots(1, 1)\n",
        "avlite_class=np.argmax(gesture_model_predictions,axis=1)\n",
        "ax.hist(avlite_class)\n",
        "# Set title\n",
        "ax.set_title(\"TF-lite model\")\n",
        "ax.set_xlabel('Classes')\n",
        "ax.set_ylabel('Predictions')\n",
        "plt.show()\n",
        "avlitequantized_class=np.argmax(gesture_model_quantized_predictions,axis=1)\n",
        "fig, ax = plt.subplots(1, 1)\n",
        "plt.hist(avlitequantized_class)\n",
        "ax.set_title(\"TF-lite-quantized model\")\n",
        "ax.set_xlabel('Classes')\n",
        "ax.set_ylabel('Predictions')\n",
        "plt.show()"
      ]
    },
    {
      "cell_type": "markdown",
      "source": [
        "**STOLEN MODEL ARCHITECTURE AND TRAINING**\n",
        "\n",
        "\n"
      ],
      "metadata": {
        "id": "cbVLpseFLO4p"
      },
      "id": "cbVLpseFLO4p"
    },
    {
      "cell_type": "code",
      "execution_count": 198,
      "id": "7b6e372b",
      "metadata": {
        "id": "7b6e372b"
      },
      "outputs": [],
      "source": [
        "Stolen_model = tf.keras.Sequential([\n",
        "      tf.keras.layers.Conv2D(\n",
        "          8, (4, 3),\n",
        "          padding=\"same\",\n",
        "          activation=\"relu\",\n",
        "          input_shape=(128, 3, 1)),  # output_shape=(batch, 128, 3, 8)\n",
        "      tf.keras.layers.MaxPool2D((3, 3)),  # (batch, 42, 1, 8)\n",
        "      tf.keras.layers.Dropout(0.1),  # (batch, 42, 1, 8)\n",
        "      tf.keras.layers.Conv2D(32, (4, 1), padding=\"same\",\n",
        "                             activation=\"relu\"),  # (batch, 42, 1, 16)\n",
        "      tf.keras.layers.Conv2D(64, (4, 1), padding=\"same\",\n",
        "                             activation=\"relu\"),  # (batch, 42, 1, 16)\n",
        "      tf.keras.layers.MaxPool2D((3, 1), padding=\"same\"),  # (batch, 14, 1, 16)\n",
        "      tf.keras.layers.Dropout(0.5),  # (batch, 14, 1, 16)\n",
        "      tf.keras.layers.Flatten(),  # (batch, 224)\n",
        "      tf.keras.layers.Dense(32, activation=\"relu\"),  # (batch, 16)\n",
        "      tf.keras.layers.Dropout(0.5),  # (batch, 16)\n",
        "      tf.keras.layers.Dense(3, activation=\"softmax\")  # (batch, 4)\n",
        "  ])"
      ]
    },
    {
      "cell_type": "code",
      "execution_count": 199,
      "id": "5ee2bc0a",
      "metadata": {
        "id": "5ee2bc0a"
      },
      "outputs": [],
      "source": [
        "# model.compile(loss='categorical_crossentropy', optimizer='adam',metrics = ['accuracy'])\n",
        "Stolen_model.compile(optimizer=\"adam\",\n",
        "                loss=\"sparse_categorical_crossentropy\",\n",
        "                metrics=[\"accuracy\"])\n",
        "# model.compile(optimizer=\"RMSprop\",\n",
        "#                 loss=\"sparse_categorical_crossentropy\",\n",
        "#                 metrics=[\"accuracy\"])"
      ]
    },
    {
      "cell_type": "code",
      "execution_count": 200,
      "id": "6051ca68",
      "metadata": {
        "colab": {
          "base_uri": "https://localhost:8080/"
        },
        "id": "6051ca68",
        "outputId": "ad1d6d68-a787-4fae-8c07-976da59db838"
      },
      "outputs": [
        {
          "output_type": "stream",
          "name": "stdout",
          "text": [
            "Epoch 1/20\n",
            "200/200 [==============================] - 17s 80ms/step - loss: 0.9635 - accuracy: 0.5220\n",
            "Epoch 2/20\n",
            "200/200 [==============================] - 16s 79ms/step - loss: 0.9003 - accuracy: 0.5839\n",
            "Epoch 3/20\n",
            "200/200 [==============================] - 16s 80ms/step - loss: 0.8736 - accuracy: 0.6026\n",
            "Epoch 4/20\n",
            "200/200 [==============================] - 16s 81ms/step - loss: 0.8534 - accuracy: 0.6149\n",
            "Epoch 5/20\n",
            "200/200 [==============================] - 16s 79ms/step - loss: 0.8352 - accuracy: 0.6261\n",
            "Epoch 6/20\n",
            "200/200 [==============================] - 16s 79ms/step - loss: 0.8190 - accuracy: 0.6332\n",
            "Epoch 7/20\n",
            "200/200 [==============================] - 16s 79ms/step - loss: 0.8049 - accuracy: 0.6405\n",
            "Epoch 8/20\n",
            "200/200 [==============================] - 16s 78ms/step - loss: 0.7904 - accuracy: 0.6486\n",
            "Epoch 9/20\n",
            "200/200 [==============================] - 16s 80ms/step - loss: 0.7801 - accuracy: 0.6519\n",
            "Epoch 10/20\n",
            "200/200 [==============================] - 16s 80ms/step - loss: 0.7770 - accuracy: 0.6568\n",
            "Epoch 11/20\n",
            "200/200 [==============================] - 16s 80ms/step - loss: 0.7670 - accuracy: 0.6599\n",
            "Epoch 12/20\n",
            "200/200 [==============================] - 16s 79ms/step - loss: 0.7576 - accuracy: 0.6668\n",
            "Epoch 13/20\n",
            "200/200 [==============================] - 16s 79ms/step - loss: 0.7539 - accuracy: 0.6704\n",
            "Epoch 14/20\n",
            "200/200 [==============================] - 16s 78ms/step - loss: 0.7427 - accuracy: 0.6747\n",
            "Epoch 15/20\n",
            "200/200 [==============================] - 17s 83ms/step - loss: 0.7385 - accuracy: 0.6784\n",
            "Epoch 16/20\n",
            "200/200 [==============================] - 17s 83ms/step - loss: 0.7317 - accuracy: 0.6791\n",
            "Epoch 17/20\n",
            "200/200 [==============================] - 16s 82ms/step - loss: 0.7257 - accuracy: 0.6805\n",
            "Epoch 18/20\n",
            "200/200 [==============================] - 16s 82ms/step - loss: 0.7130 - accuracy: 0.6902\n",
            "Epoch 19/20\n",
            "200/200 [==============================] - 16s 82ms/step - loss: 0.7097 - accuracy: 0.6917\n",
            "Epoch 20/20\n",
            "200/200 [==============================] - 16s 81ms/step - loss: 0.7056 - accuracy: 0.6939\n"
          ]
        },
        {
          "output_type": "execute_result",
          "data": {
            "text/plain": [
              "<keras.callbacks.History at 0x7fc4adfb4510>"
            ]
          },
          "metadata": {},
          "execution_count": 200
        }
      ],
      "source": [
        "Stolen_model.fit(contents_pickle[0],contents_pickle[1],epochs=20,steps_per_epoch=200)\n"
      ]
    },
    {
      "cell_type": "markdown",
      "source": [
        "**TESTING THE STOLEN MODEL USING ORIGINAL TEST DATA**\n",
        "\n",
        "\n",
        "1. calling data loader function to load the test data, \n",
        "Getting the accuracy and loss of the stolen model\n",
        "2. Storing the .h5 file of the stolen model\n",
        "3. Plotting the results\n",
        "4. Converting the stolen model to tflite and storing the .tflite file\n",
        "\n"
      ],
      "metadata": {
        "id": "xZ6ZJglgLr00"
      },
      "id": "xZ6ZJglgLr00"
    },
    {
      "cell_type": "code",
      "execution_count": 201,
      "id": "b3a06e93",
      "metadata": {
        "colab": {
          "base_uri": "https://localhost:8080/"
        },
        "id": "b3a06e93",
        "outputId": "263a2326-395f-4506-d1b5-2d32e693c710"
      },
      "outputs": [
        {
          "output_type": "stream",
          "name": "stdout",
          "text": [
            "train_data_length:4200\n",
            "valid_data_length:55\n",
            "test_data_length:59\n",
            "2/2 [==============================] - 0s 17ms/step - loss: 1.8419 - accuracy: 0.6780\n"
          ]
        }
      ],
      "source": [
        "from data_load import DataLoader\n",
        "import argparse\n",
        "def reshape_function(data, label):\n",
        "  reshaped_data = tf.reshape(data, [-1, 3, 1])\n",
        "  return reshaped_data, label\n",
        "def load_data(train_data_path, valid_data_path, test_data_path, seq_length):\n",
        "  data_loader = DataLoader(train_data_path,\n",
        "                           valid_data_path,\n",
        "                           test_data_path,\n",
        "                           seq_length=seq_length)\n",
        "  data_loader.format()\n",
        "  return data_loader.train_len, data_loader.train_data, data_loader.valid_len, \\\n",
        "      data_loader.valid_data, data_loader.test_len, data_loader.test_data\n",
        "seq_length = 128\n",
        "train_len, train_data, valid_len, valid_data, test_len, test_data = \\\n",
        "load_data(\"./train\", \"./valid\",\n",
        "                  \"./test\", seq_length)\n",
        "def reshape_function(data, label):\n",
        "  reshaped_data = tf.reshape(data, [-1, 3, 1])\n",
        "  return reshaped_data, label\n",
        "test_data = test_data.map(reshape_function)\n",
        "test_data_batch = test_data.batch(64)\n",
        "loss, acc = Stolen_model.evaluate(test_data_batch)\n"
      ]
    },
    {
      "cell_type": "code",
      "execution_count": 202,
      "id": "9129cbf6",
      "metadata": {
        "id": "9129cbf6"
      },
      "outputs": [],
      "source": [
        "tf.keras.models.save_model(\n",
        "    Stolen_model, 'stolen_model.h5', overwrite=True, include_optimizer=True, save_format='h5',\n",
        "    signatures=None, options=None)"
      ]
    },
    {
      "cell_type": "code",
      "execution_count": 203,
      "id": "356f8cc2",
      "metadata": {
        "colab": {
          "base_uri": "https://localhost:8080/",
          "height": 265
        },
        "id": "356f8cc2",
        "outputId": "4a5318fc-e79c-4d76-f8f8-c0cb39f4d217"
      },
      "outputs": [
        {
          "output_type": "display_data",
          "data": {
            "text/plain": [
              "<Figure size 432x288 with 1 Axes>"
            ],
            "image/png": "[encoded data removed]"
          },
          "metadata": {
            "needs_background": "light"
          }
        }
      ],
      "source": [
        "Stolen_model=tf.keras.models.load_model(\"stolen_model.h5\")\n",
        "av_out=Stolen_model.predict(test_data_batch)\n",
        "# print(av_out)\n",
        "# av.shape,av_out.shape\n",
        "av_class=np.argmax(av_out,axis=1)\n",
        "# av_class\n",
        "# np.unique(av_class)\n",
        "plt.hist(av_class)\n",
        "plt.show()\n"
      ]
    },
    {
      "cell_type": "code",
      "execution_count": 145,
      "id": "e5abe399",
      "metadata": {
        "colab": {
          "base_uri": "https://localhost:8080/"
        },
        "id": "e5abe399",
        "outputId": "01577972-6160-4bf7-8235-8d3adebf7592"
      },
      "outputs": [
        {
          "output_type": "stream",
          "name": "stdout",
          "text": [
            "INFO:tensorflow:Assets written to: /tmp/tmpy8v__7l8/assets\n"
          ]
        },
        {
          "output_type": "stream",
          "name": "stderr",
          "text": [
            "INFO:tensorflow:Assets written to: /tmp/tmpy8v__7l8/assets\n",
            "WARNING:absl:Buffer deduplication procedure will be skipped when flatbuffer library is not properly loaded\n"
          ]
        },
        {
          "output_type": "execute_result",
          "data": {
            "text/plain": [
              "65604"
            ]
          },
          "metadata": {},
          "execution_count": 145
        }
      ],
      "source": [
        "converter=tf.lite.TFLiteConverter.from_keras_model(Stolen_model)\n",
        "tflite_modelstolen=converter.convert()\n",
        "\n",
        "open(\"stolen_model.tflite\",\"wb\").write(tflite_modelstolen)"
      ]
    },
    {
      "cell_type": "markdown",
      "source": [
        "**DEFENCE**\n",
        "\n",
        "\n",
        "1.   Converting the attack vector dataset to tesnor slice dataset to make similar to the original training dataset\n",
        "2.   Preparing the training dataset for the defense model by combining the attack vectors and original training dataset\n",
        "3. Storing the newely generated dataset in pickle format \n",
        "\n"
      ],
      "metadata": {
        "id": "ibUyW9kQWAjK"
      },
      "id": "ibUyW9kQWAjK"
    },
    {
      "cell_type": "code",
      "source": [
        "av_training_dataset=tf.data.Dataset.from_tensor_slices((ans[0],ans[1]))"
      ],
      "metadata": {
        "id": "lS9bGRdGqMXM"
      },
      "id": "lS9bGRdGqMXM",
      "execution_count": 146,
      "outputs": []
    },
    {
      "cell_type": "code",
      "source": [
        "train_data = train_data.map(reshape_function)\n",
        "orig_data=next(train_data.batch(9000).as_numpy_iterator())[0]\n",
        "orig_labels=next(train_data.batch(9000).as_numpy_iterator())[1]\n",
        "av_data=next(av_training_dataset.batch(9000).as_numpy_iterator())[0]\n",
        "av_labels=next(av_training_dataset.batch(9000).as_numpy_iterator())[1]\n",
        "orig_data.shape,orig_labels.shape,av_data.shape,av_labels.shape\n",
        "new_av_lables = np.where( av_labels< 3, 3, av_labels)\n",
        "final_data=np.concatenate([orig_data,av_data])\n",
        "final_labels=np.concatenate([orig_labels,new_av_lables])\n",
        "final_data.shape,final_labels.shape"
      ],
      "metadata": {
        "id": "sudqdENfqaAH"
      },
      "id": "sudqdENfqaAH",
      "execution_count": 57,
      "outputs": []
    },
    {
      "cell_type": "code",
      "source": [
        "file_new = open('new_training_data.pkl', 'wb')\n",
        "pickle.dump([final_data,final_labels],file_new)\n",
        "file_new.close()\n",
        "pickle_off_new = open(\"new_training_data.pkl\", 'rb')\n",
        "contents_pickle_new = pickle.load(pickle_off_new)\n",
        "contents_pickle_new[0].shape,contents_pickle_new[1].shape"
      ],
      "metadata": {
        "id": "XYUNJCxLqlJ5"
      },
      "id": "XYUNJCxLqlJ5",
      "execution_count": 58,
      "outputs": []
    },
    {
      "cell_type": "code",
      "source": [
        ""
      ],
      "metadata": {
        "colab": {
          "base_uri": "https://localhost:8080/"
        },
        "id": "x6dfltcfx8Z5",
        "outputId": "e9e39ede-48e2-4989-a14c-8c93e510fad8"
      },
      "id": "x6dfltcfx8Z5",
      "execution_count": 160,
      "outputs": [
        {
          "output_type": "execute_result",
          "data": {
            "text/plain": [
              "((8400, 128, 3, 1), (8400,), (9000, 128, 3, 1), (9000,))"
            ]
          },
          "metadata": {},
          "execution_count": 160
        }
      ]
    },
    {
      "cell_type": "code",
      "source": [
        ""
      ],
      "metadata": {
        "id": "vVXKHlIwyzIb"
      },
      "id": "vVXKHlIwyzIb",
      "execution_count": 161,
      "outputs": []
    },
    {
      "cell_type": "code",
      "source": [
        ""
      ],
      "metadata": {
        "colab": {
          "base_uri": "https://localhost:8080/"
        },
        "id": "Yj4kggf-1fXZ",
        "outputId": "fd4c16c0-3e43-41cc-ec88-f0a34bc6a4a4"
      },
      "id": "Yj4kggf-1fXZ",
      "execution_count": 162,
      "outputs": [
        {
          "output_type": "execute_result",
          "data": {
            "text/plain": [
              "array([3, 3, 3, ..., 3, 3, 3])"
            ]
          },
          "metadata": {},
          "execution_count": 162
        }
      ]
    },
    {
      "cell_type": "code",
      "source": [
        ""
      ],
      "metadata": {
        "id": "zAsjxSyi3JZt"
      },
      "id": "zAsjxSyi3JZt",
      "execution_count": 167,
      "outputs": []
    },
    {
      "cell_type": "code",
      "source": [
        ""
      ],
      "metadata": {
        "colab": {
          "base_uri": "https://localhost:8080/"
        },
        "id": "deHcMLuE8oMb",
        "outputId": "107f6f1f-5fe7-46e2-fa19-7313fc646756"
      },
      "id": "deHcMLuE8oMb",
      "execution_count": 168,
      "outputs": [
        {
          "output_type": "execute_result",
          "data": {
            "text/plain": [
              "((17400, 128, 3, 1), (17400,))"
            ]
          },
          "metadata": {},
          "execution_count": 168
        }
      ]
    },
    {
      "cell_type": "code",
      "source": [
        ""
      ],
      "metadata": {
        "colab": {
          "base_uri": "https://localhost:8080/"
        },
        "id": "E4GnlR8c8sqG",
        "outputId": "41ae6e76-acf8-4b61-ca80-af2082558390"
      },
      "id": "E4GnlR8c8sqG",
      "execution_count": 171,
      "outputs": [
        {
          "output_type": "execute_result",
          "data": {
            "text/plain": [
              "((17400, 128, 3, 1), (17400,))"
            ]
          },
          "metadata": {},
          "execution_count": 171
        }
      ]
    },
    {
      "cell_type": "code",
      "source": [
        "av_training_dataset"
      ],
      "metadata": {
        "colab": {
          "base_uri": "https://localhost:8080/"
        },
        "id": "ElD1m9DVHKnp",
        "outputId": "672decf3-eab6-4599-f90a-fb5a233021b8"
      },
      "id": "ElD1m9DVHKnp",
      "execution_count": 172,
      "outputs": [
        {
          "output_type": "execute_result",
          "data": {
            "text/plain": [
              "<TensorSliceDataset element_spec=(TensorSpec(shape=(128, 3, 1), dtype=tf.float64, name=None), TensorSpec(shape=(), dtype=tf.int64, name=None))>"
            ]
          },
          "metadata": {},
          "execution_count": 172
        }
      ]
    },
    {
      "cell_type": "code",
      "source": [
        ""
      ],
      "metadata": {
        "id": "Isya-BfOXHNV"
      },
      "id": "Isya-BfOXHNV",
      "execution_count": null,
      "outputs": []
    }
  ],
  "metadata": {
    "kernelspec": {
      "display_name": "Python 3",
      "language": "python",
      "name": "python3"
    },
    "language_info": {
      "codemirror_mode": {
        "name": "ipython",
        "version": 3
      },
      "file_extension": ".py",
      "mimetype": "text/x-python",
      "name": "python",
      "nbconvert_exporter": "python",
      "pygments_lexer": "ipython3",
      "version": "3.8.8"
    },
    "colab": {
      "name": "attack-test-original_tflite_quantized.ipynb",
      "provenance": [],
      "include_colab_link": true
    }
  },
  "nbformat": 4,
  "nbformat_minor": 5
}