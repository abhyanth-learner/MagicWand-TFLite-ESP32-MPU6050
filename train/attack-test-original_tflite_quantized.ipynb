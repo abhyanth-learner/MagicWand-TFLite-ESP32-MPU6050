{
 "cells": [
  {
   "cell_type": "code",
   "execution_count": 1,
   "id": "630e1908",
   "metadata": {},
   "outputs": [],
   "source": [
    "import tensorflow as tf\n",
    "import numpy as np\n",
    "import matplotlib.pyplot as plt\n",
    "np.random.seed(5)"
   ]
  },
  {
   "cell_type": "code",
   "execution_count": 2,
   "id": "f777126f",
   "metadata": {},
   "outputs": [],
   "source": [
    "#  model=tf.keras.models.load_model(\"original.h5\")\n",
    "# # model.summary()\n",
    "# av1=np.random.randn(2000,128,3,1)\n",
    "# av2=np.random.rand(500,128,3,1)\n",
    "# av=np.concatenate((av1,av2))\n",
    "# av_out=model.predict(av)\n",
    "# # print(av_out)\n",
    "# av.shape,av_out.shape\n",
    "# av_class=np.argmax(av_out,axis=1)\n",
    "# av_class\n",
    "# np.unique(av_class)\n",
    "# plt.hist(av_class)\n",
    "# # av=np.random.randn(100,128,3,1)\n",
    "# # av=np.random.rand(100,128,3,1)\n",
    "# av_class\n",
    "# t=np.arange(0,128)\n",
    "# plt.plot(t,av2[0,:,0,0])"
   ]
  },
  {
   "cell_type": "code",
   "execution_count": 7,
   "id": "736c5cba",
   "metadata": {},
   "outputs": [
    {
     "data": {
      "image/png": "[encoded data removed]",
      "text/plain": [
       "<Figure size 432x288 with 1 Axes>"
      ]
     },
     "metadata": {
      "needs_background": "light"
     },
     "output_type": "display_data"
    }
   ],
   "source": [
    "# np.random.seed(0)\n",
    "model=tf.keras.models.load_model(\"original.h5\")\n",
    "av1=np.random.randn(5000,128,3,1)\n",
    "av2=np.random.rand(1000,128,3,1)\n",
    "av=np.concatenate((av1,av2))\n",
    "av_out=model.predict(av1)\n",
    "# print(av_out)\n",
    "# av.shape,av_out.shape\n",
    "av_class=np.argmax(av_out,axis=1)\n",
    "# av_class\n",
    "# np.unique(av_class)\n",
    "plt.hist(av_class)\n",
    "plt.show()"
   ]
  },
  {
   "cell_type": "code",
   "execution_count": 12,
   "id": "572451e9",
   "metadata": {},
   "outputs": [
    {
     "data": {
      "image/png": "[encoded data removed]",
      "text/plain": [
       "<Figure size 432x288 with 1 Axes>"
      ]
     },
     "metadata": {
      "needs_background": "light"
     },
     "output_type": "display_data"
    },
    {
     "data": {
      "image/png": "[encoded data removed]",
      "text/plain": [
       "<Figure size 432x288 with 1 Axes>"
      ]
     },
     "metadata": {
      "needs_background": "light"
     },
     "output_type": "display_data"
    }
   ],
   "source": [
    "# Instantiate an interpreter for each model\n",
    "gesture_model = tf.lite.Interpreter('model.tflite')\n",
    "gesture_model_quantized = tf.lite.Interpreter('model_quantized.tflite')\n",
    "\n",
    "# Allocate memory for each model\n",
    "gesture_model.allocate_tensors()\n",
    "gesture_model_quantized.allocate_tensors()\n",
    "\n",
    "# Get indexes of the input and output tensors\n",
    "gesture_model_input_index = gesture_model.get_input_details()[0][\"index\"]\n",
    "gesture_model_output_index = gesture_model.get_output_details()[0][\"index\"]\n",
    "gesture_model_quantized_input_index = gesture_model_quantized.get_input_details()[0][\"index\"]\n",
    "gesture_model_quantized_output_index = \\\n",
    "gesture_model_quantized.get_output_details()[0][\"index\"]\n",
    "# gesture_model_input_index,gesture_model_output_index\n",
    "# Create arrays to store the results\n",
    "gesture_model_predictions = []\n",
    "gesture_model_quantized_predictions = []\n",
    "av1=np.random.randn(5000,128,3,1)\n",
    "av2=np.random.rand(1000,128,3,1)\n",
    "x_test=np.concatenate((av1,av2))\n",
    "# Run each model's interpreter for each value and store the results in arrays\n",
    "for x_value in x_test:\n",
    "#     print(len(x_value))\n",
    "    # Create a 2D tensor wrapping the current x value\n",
    "    x_value_tensor = tf.convert_to_tensor([x_value], dtype=np.float32)\n",
    "#     print(\"answer2:::::::;;\",x_value_tensor)\n",
    "    # Write the value to the input tensor\n",
    "    gesture_model.set_tensor(gesture_model_input_index, x_value_tensor)\n",
    "    # Run inference\n",
    "    gesture_model.invoke()\n",
    "   # Read the prediction from the output tensor\n",
    "    gesture_model_predictions.append(\n",
    "    gesture_model.get_tensor(gesture_model_output_index)[0])\n",
    "   # Do the same for the quantized model\n",
    "    gesture_model_quantized.set_tensor(gesture_model_quantized_input_index, x_value_tensor)\n",
    "    gesture_model_quantized.invoke()\n",
    "    gesture_model_quantized_predictions.append(\n",
    "    gesture_model_quantized.get_tensor(gesture_model_quantized_output_index)[0])\n",
    "# print(gesture_model_predictions)\n",
    "fig, ax = plt.subplots(1, 1)\n",
    "avlite_class=np.argmax(gesture_model_predictions,axis=1)\n",
    "ax.hist(avlite_class)\n",
    "# Set title\n",
    "ax.set_title(\"TF-lite model\")\n",
    "ax.set_xlabel('Classes')\n",
    "ax.set_ylabel('Predictions')\n",
    "plt.show()\n",
    "avlitequantized_class=np.argmax(gesture_model_quantized_predictions,axis=1)\n",
    "fig, ax = plt.subplots(1, 1)\n",
    "plt.hist(avlitequantized_class)\n",
    "ax.set_title(\"TF-lite-quantized model\")\n",
    "ax.set_xlabel('Classes')\n",
    "ax.set_ylabel('Predictions')\n",
    "plt.show()\n",
    "\n"
   ]
  },
  {
   "cell_type": "code",
   "execution_count": null,
   "id": "7b6e372b",
   "metadata": {},
   "outputs": [],
   "source": []
  },
  {
   "cell_type": "code",
   "execution_count": null,
   "id": "5ee2bc0a",
   "metadata": {},
   "outputs": [],
   "source": []
  },
  {
   "cell_type": "code",
   "execution_count": null,
   "id": "6051ca68",
   "metadata": {},
   "outputs": [],
   "source": [
    "\n"
   ]
  },
  {
   "cell_type": "code",
   "execution_count": null,
   "id": "b3a06e93",
   "metadata": {},
   "outputs": [],
   "source": [
    "\n"
   ]
  },
  {
   "cell_type": "code",
   "execution_count": null,
   "id": "9129cbf6",
   "metadata": {},
   "outputs": [],
   "source": []
  },
  {
   "cell_type": "code",
   "execution_count": null,
   "id": "356f8cc2",
   "metadata": {},
   "outputs": [],
   "source": []
  },
  {
   "cell_type": "code",
   "execution_count": null,
   "id": "e5abe399",
   "metadata": {},
   "outputs": [],
   "source": []
  }
 ],
 "metadata": {
  "kernelspec": {
   "display_name": "Python 3",
   "language": "python",
   "name": "python3"
  },
  "language_info": {
   "codemirror_mode": {
    "name": "ipython",
    "version": 3
   },
   "file_extension": ".py",
   "mimetype": "text/x-python",
   "name": "python",
   "nbconvert_exporter": "python",
   "pygments_lexer": "ipython3",
   "version": "3.8.8"
  }
 },
 "nbformat": 4,
 "nbformat_minor": 5
}
