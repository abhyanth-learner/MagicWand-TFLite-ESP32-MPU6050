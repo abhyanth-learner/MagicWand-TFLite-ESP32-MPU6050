{
 "cells": [
  {
   "cell_type": "markdown",
   "id": "yS5-_Yh1I79z",
   "metadata": {
    "id": "yS5-_Yh1I79z"
   },
   "source": [
    "**IMPORT STATEMENTS**"
   ]
  },
  {
   "cell_type": "code",
   "execution_count": 2,
   "id": "630e1908",
   "metadata": {
    "id": "630e1908"
   },
   "outputs": [],
   "source": [
    "import tensorflow as tf\n",
    "import numpy as np\n",
    "import matplotlib.pyplot as plt\n",
    "np.random.seed(5)\n",
    "import random\n",
    "import pandas as pd\n",
    "import pickle"
   ]
  },
  {
   "cell_type": "markdown",
   "id": "5lFxXiISJ9Tl",
   "metadata": {
    "id": "5lFxXiISJ9Tl"
   },
   "source": [
    "**ORIGINAL MODEL** \n",
    "1. .h5 file calling\n",
    "2. attack vector generation and implemtation on        original .h5 file\n",
    "3. plotting  of the results\n",
    "4. saving the attack vectors in pickle format\n",
    "\n",
    "\n",
    "\n",
    "\n"
   ]
  },
  {
   "cell_type": "code",
   "execution_count": 32,
   "id": "736c5cba",
   "metadata": {
    "colab": {
     "base_uri": "https://localhost:8080/",
     "height": 282
    },
    "id": "736c5cba",
    "outputId": "5b14c781-0e99-4a94-96ce-ec4762c13fd4"
   },
   "outputs": [
    {
     "name": "stdout",
     "output_type": "stream",
     "text": [
      "1/1 [==============================] - 0s 82ms/step - loss: 0.0189 - accuracy: 0.9915\n"
     ]
    },
    {
     "data": {
      "image/png": "[encoded data removed]",
      "text/plain": [
       "<Figure size 432x288 with 1 Axes>"
      ]
     },
     "metadata": {
      "needs_background": "light"
     },
     "output_type": "display_data"
    },
    {
     "data": {
      "text/plain": [
       "10"
      ]
     },
     "execution_count": 32,
     "metadata": {},
     "output_type": "execute_result"
    }
   ],
   "source": [
    "# load the model\n",
    "model=tf.keras.models.load_model(\"models\\Original Model/original.h5\")\n",
    "loss, acc = model.evaluate(test_data_batch)\n",
    "\n",
    "# Generating the attack vectors\n",
    "av1=np.random.randn(50000,128,3,1)\n",
    "av2=np.random.rand(10000,128,3,1)\n",
    "av=np.concatenate((av1,av2))\n",
    "#prediction using the attack vectors\n",
    "av_out=model.predict(av)\n",
    "# print(av_out)\n",
    "# av.shape,av_out.shape\n",
    "av_class=np.argmax(av_out,axis=1)\n",
    "# av_class\n",
    "# np.unique(av_class)\n",
    "plt.hist(av_class)\n",
    "plt.show()\n",
    "# file = open('Attack vectors_new dataset/attack_vectors.pkl', 'wb')\n",
    "# pickle.dump([av,av_class],file)\n",
    "# file.close()\n",
    "len(model.layers)"
   ]
  },
  {
   "cell_type": "markdown",
   "id": "FUJqywe2Kzqj",
   "metadata": {
    "id": "FUJqywe2Kzqj"
   },
   "source": [
    "## **ORIGINAL TFLITE AND QUANTIZED MODEL** \n",
    "1. .tflite file calling\n",
    "2. attack implemtation on original tflite(including quantized) file\n",
    "3. plotting  of the results\n",
    "\n",
    "\n",
    "\n",
    "\n",
    "\n"
   ]
  },
  {
   "cell_type": "code",
   "execution_count": 71,
   "id": "bb3c63fa",
   "metadata": {},
   "outputs": [
    {
     "data": {
      "text/plain": [
       "75"
      ]
     },
     "execution_count": 71,
     "metadata": {},
     "output_type": "execute_result"
    }
   ],
   "source": [
    "\n",
    "res = sum(x == y for x, y in zip(avlite_class,orig_data))\n",
    "res"
   ]
  },
  {
   "cell_type": "code",
   "execution_count": 49,
   "id": "572451e9",
   "metadata": {
    "colab": {
     "base_uri": "https://localhost:8080/",
     "height": 573
    },
    "id": "572451e9",
    "outputId": "723c3896-6ac1-4efa-dd89-1d4a7382fd82"
   },
   "outputs": [
    {
     "data": {
      "image/png": "[encoded data removed]",
      "text/plain": [
       "<Figure size 432x288 with 1 Axes>"
      ]
     },
     "metadata": {
      "needs_background": "light"
     },
     "output_type": "display_data"
    },
    {
     "data": {
      "image/png": "[encoded data removed]",
      "text/plain": [
       "<Figure size 432x288 with 1 Axes>"
      ]
     },
     "metadata": {
      "needs_background": "light"
     },
     "output_type": "display_data"
    }
   ],
   "source": [
    "# Instantiate an interpreter for each model\n",
    "gesture_model = tf.lite.Interpreter('models\\Original Model/model.tflite')\n",
    "gesture_model_quantized = tf.lite.Interpreter('models\\Original Model/model_quantized.tflite')\n",
    "\n",
    "# Allocate memory for each model\n",
    "gesture_model.allocate_tensors()\n",
    "gesture_model_quantized.allocate_tensors()\n",
    "\n",
    "# Get indexes of the input and output tensors\n",
    "gesture_model_input_index = gesture_model.get_input_details()[0][\"index\"]\n",
    "gesture_model_output_index = gesture_model.get_output_details()[0][\"index\"]\n",
    "gesture_model_quantized_input_index = gesture_model_quantized.get_input_details()[0][\"index\"]\n",
    "gesture_model_quantized_output_index = \\\n",
    "gesture_model_quantized.get_output_details()[0][\"index\"]\n",
    "# gesture_model_input_index,gesture_model_output_index\n",
    "# Create arrays to store the results\n",
    "gesture_model_predictions = []\n",
    "gesture_model_quantized_predictions = []\n",
    "av1=np.random.randn(5000,128,3,1)\n",
    "av2=np.random.rand(1000,128,3,1)\n",
    "x_test=np.concatenate((av1,av2))\n",
    "# Run each model's interpreter for each value and store the results in arrays\n",
    "for x_value in iter1:\n",
    "#     print(len(x_value))\n",
    "    # Create a 2D tensor wrapping the current x value\n",
    "    x_value_tensor = tf.convert_to_tensor([x_value], dtype=np.float32)\n",
    "#     print(\"answer2:::::::;;\",x_value_tensor)\n",
    "    # Write the value to the input tensor\n",
    "    gesture_model.set_tensor(gesture_model_input_index, x_value_tensor)\n",
    "    # Run inference\n",
    "    gesture_model.invoke()\n",
    "   # Read the prediction from the output tensor\n",
    "    gesture_model_predictions.append(\n",
    "    gesture_model.get_tensor(gesture_model_output_index)[0])\n",
    "   # Do the same for the quantized model\n",
    "    gesture_model_quantized.set_tensor(gesture_model_quantized_input_index, x_value_tensor)\n",
    "    gesture_model_quantized.invoke()\n",
    "    gesture_model_quantized_predictions.append(\n",
    "    gesture_model_quantized.get_tensor(gesture_model_quantized_output_index)[0])\n",
    "# print(gesture_model_predictions)\n",
    "fig, ax = plt.subplots(1, 1)\n",
    "avlite_class=np.argmax(gesture_model_predictions,axis=1)\n",
    "ax.hist(avlite_class)\n",
    "# Set title\n",
    "ax.set_title(\"TF-lite model\")\n",
    "ax.set_xlabel('Classes')\n",
    "ax.set_ylabel('Predictions')\n",
    "plt.show()\n",
    "avlitequantized_class=np.argmax(gesture_model_quantized_predictions,axis=1)\n",
    "fig, ax = plt.subplots(1, 1)\n",
    "plt.hist(avlitequantized_class)\n",
    "ax.set_title(\"TF-lite-quantized model\")\n",
    "ax.set_xlabel('Classes')\n",
    "ax.set_ylabel('Predictions')\n",
    "plt.show()"
   ]
  },
  {
   "cell_type": "markdown",
   "id": "cbVLpseFLO4p",
   "metadata": {
    "id": "cbVLpseFLO4p"
   },
   "source": [
    "**STOLEN MODEL ARCHITECTURE AND TRAINING**\n",
    "\n",
    "\n"
   ]
  },
  {
   "cell_type": "code",
   "execution_count": 12,
   "id": "7b6e372b",
   "metadata": {
    "id": "7b6e372b"
   },
   "outputs": [],
   "source": [
    "Stolen_model = tf.keras.Sequential([\n",
    "      tf.keras.layers.Conv2D(\n",
    "          8, (4, 3),\n",
    "          padding=\"same\",\n",
    "          activation=\"relu\",\n",
    "          input_shape=(128, 3, 1)),  # output_shape=(batch, 128, 3, 8)\n",
    "      tf.keras.layers.MaxPool2D((3, 3)),  # (batch, 42, 1, 8)\n",
    "      tf.keras.layers.Dropout(0.1),  # (batch, 42, 1, 8)\n",
    "      tf.keras.layers.Conv2D(32, (4, 1), padding=\"same\",\n",
    "                             activation=\"relu\"),  # (batch, 42, 1, 16)\n",
    "      tf.keras.layers.Conv2D(80, (4, 1), padding=\"same\",\n",
    "                             activation=\"relu\"),  # (batch, 42, 1, 16)\n",
    "      tf.keras.layers.MaxPool2D((3, 1), padding=\"same\"),  # (batch, 14, 1, 16)\n",
    "      tf.keras.layers.Dropout(0.5),  # (batch, 14, 1, 16)\n",
    "      tf.keras.layers.Flatten(),  # (batch, 224)\n",
    "      tf.keras.layers.Dense(32, activation=\"relu\"),  # (batch, 16)\n",
    "      tf.keras.layers.Dropout(0.5),  # (batch, 16)\n",
    "      tf.keras.layers.Dense(3, activation=\"softmax\")  # (batch, 4)\n",
    "  ])"
   ]
  },
  {
   "cell_type": "code",
   "execution_count": 13,
   "id": "5ee2bc0a",
   "metadata": {
    "id": "5ee2bc0a"
   },
   "outputs": [],
   "source": [
    "# model.compile(loss='categorical_crossentropy', optimizer='adam',metrics = ['accuracy'])\n",
    "Stolen_model.compile(optimizer=\"adam\",\n",
    "                loss=\"sparse_categorical_crossentropy\",\n",
    "                metrics=[\"accuracy\"])\n",
    "# model.compile(optimizer=\"RMSprop\",\n",
    "#                 loss=\"sparse_categorical_crossentropy\",\n",
    "#                 metrics=[\"accuracy\"])"
   ]
  },
  {
   "cell_type": "code",
   "execution_count": 19,
   "id": "6051ca68",
   "metadata": {
    "colab": {
     "base_uri": "https://localhost:8080/"
    },
    "id": "6051ca68",
    "outputId": "ad1d6d68-a787-4fae-8c07-976da59db838"
   },
   "outputs": [
    {
     "name": "stdout",
     "output_type": "stream",
     "text": [
      "Epoch 1/20\n",
      "200/200 [==============================] - 8s 39ms/step - loss: 0.9634 - accuracy: 0.5214\n",
      "Epoch 2/20\n",
      "200/200 [==============================] - 7s 36ms/step - loss: 0.8977 - accuracy: 0.5869\n",
      "Epoch 3/20\n",
      "200/200 [==============================] - 8s 41ms/step - loss: 0.8656 - accuracy: 0.6103\n",
      "Epoch 4/20\n",
      "200/200 [==============================] - 8s 40ms/step - loss: 0.8358 - accuracy: 0.6266\n",
      "Epoch 5/20\n",
      "200/200 [==============================] - 8s 41ms/step - loss: 0.8096 - accuracy: 0.6427\n",
      "Epoch 6/20\n",
      "200/200 [==============================] - 8s 40ms/step - loss: 0.7923 - accuracy: 0.6507\n",
      "Epoch 7/20\n",
      "200/200 [==============================] - 8s 41ms/step - loss: 0.7807 - accuracy: 0.6575\n",
      "Epoch 8/20\n",
      "200/200 [==============================] - 8s 40ms/step - loss: 0.7734 - accuracy: 0.6601\n",
      "Epoch 9/20\n",
      "200/200 [==============================] - 8s 42ms/step - loss: 0.7585 - accuracy: 0.6656\n",
      "Epoch 10/20\n",
      "200/200 [==============================] - 8s 40ms/step - loss: 0.7517 - accuracy: 0.6697\n",
      "Epoch 11/20\n",
      "200/200 [==============================] - 8s 42ms/step - loss: 0.7395 - accuracy: 0.6749\n",
      "Epoch 12/20\n",
      "200/200 [==============================] - 8s 40ms/step - loss: 0.7285 - accuracy: 0.6783\n",
      "Epoch 13/20\n",
      "200/200 [==============================] - 8s 42ms/step - loss: 0.7193 - accuracy: 0.6813\n",
      "Epoch 14/20\n",
      "200/200 [==============================] - 8s 40ms/step - loss: 0.7132 - accuracy: 0.6884 0s - loss: 0.714\n",
      "Epoch 15/20\n",
      "200/200 [==============================] - 9s 43ms/step - loss: 0.7009 - accuracy: 0.6927\n",
      "Epoch 16/20\n",
      "200/200 [==============================] - 8s 41ms/step - loss: 0.6904 - accuracy: 0.6965\n",
      "Epoch 17/20\n",
      "200/200 [==============================] - 8s 42ms/step - loss: 0.6818 - accuracy: 0.6985\n",
      "Epoch 18/20\n",
      "200/200 [==============================] - 8s 41ms/step - loss: 0.6760 - accuracy: 0.7053\n",
      "Epoch 19/20\n",
      "200/200 [==============================] - 8s 42ms/step - loss: 0.6712 - accuracy: 0.7035\n",
      "Epoch 20/20\n",
      "200/200 [==============================] - 8s 42ms/step - loss: 0.6671 - accuracy: 0.7078\n"
     ]
    },
    {
     "data": {
      "text/plain": [
       "<keras.callbacks.History at 0x1c707d5a3a0>"
      ]
     },
     "execution_count": 19,
     "metadata": {},
     "output_type": "execute_result"
    }
   ],
   "source": [
    "Stolen_model.fit(contents_pickle[0],contents_pickle[1],epochs=20,steps_per_epoch=200)\n"
   ]
  },
  {
   "cell_type": "markdown",
   "id": "xZ6ZJglgLr00",
   "metadata": {
    "id": "xZ6ZJglgLr00"
   },
   "source": [
    "**TESTING THE STOLEN MODEL USING ORIGINAL TEST DATA**\n",
    "\n",
    "\n",
    "1. calling data loader function to load the test data, \n",
    "Getting the accuracy and loss of the stolen model\n",
    "2. Storing the .h5 file of the stolen model\n",
    "3. Plotting the results\n",
    "4. Converting the stolen model to tflite and storing the .tflite file\n",
    "\n"
   ]
  },
  {
   "cell_type": "code",
   "execution_count": 5,
   "id": "b3a06e93",
   "metadata": {
    "colab": {
     "base_uri": "https://localhost:8080/"
    },
    "id": "b3a06e93",
    "outputId": "263a2326-395f-4506-d1b5-2d32e693c710"
   },
   "outputs": [
    {
     "name": "stdout",
     "output_type": "stream",
     "text": [
      "train_data_length:4200\n",
      "valid_data_length:55\n",
      "test_data_length:59\n"
     ]
    }
   ],
   "source": [
    "from data_load import DataLoader\n",
    "import argparse\n",
    "def reshape_function(data, label):\n",
    "  reshaped_data = tf.reshape(data, [-1, 3, 1])\n",
    "  return reshaped_data, label\n",
    "def load_data(train_data_path, valid_data_path, test_data_path, seq_length):\n",
    "  data_loader = DataLoader(train_data_path,\n",
    "                           valid_data_path,\n",
    "                           test_data_path,\n",
    "                           seq_length=seq_length)\n",
    "  data_loader.format()\n",
    "  return data_loader.train_len, data_loader.train_data, data_loader.valid_len, \\\n",
    "      data_loader.valid_data, data_loader.test_len, data_loader.test_data\n",
    "seq_length = 128\n",
    "train_len, train_data, valid_len, valid_data, test_len, test_data = \\\n",
    "load_data(\"data/train\", \"data/valid\",\n",
    "                  \"data/test\", seq_length)\n",
    "def reshape_function(data, label):\n",
    "  reshaped_data = tf.reshape(data, [-1, 3, 1])\n",
    "  return reshaped_data, label\n",
    "test_data = test_data.map(reshape_function)\n",
    "test_data_batch = test_data.batch(500)\n",
    "# loss, acc = Stolen_model.evaluate(test_data_batch)\n"
   ]
  },
  {
   "cell_type": "code",
   "execution_count": 75,
   "id": "9129cbf6",
   "metadata": {
    "id": "9129cbf6"
   },
   "outputs": [],
   "source": [
    "tf.keras.models.save_model(\n",
    "    Stolen_model, 'stolen_model.h5', overwrite=True, include_optimizer=True, save_format='h5',\n",
    "    signatures=None, options=None)"
   ]
  },
  {
   "cell_type": "code",
   "execution_count": 36,
   "id": "356f8cc2",
   "metadata": {
    "colab": {
     "base_uri": "https://localhost:8080/",
     "height": 265
    },
    "id": "356f8cc2",
    "outputId": "4a5318fc-e79c-4d76-f8f8-c0cb39f4d217"
   },
   "outputs": [
    {
     "name": "stdout",
     "output_type": "stream",
     "text": [
      "120/120 [==============================] - 2s 18ms/step - loss: 0.6250 - accuracy: 0.7006\n",
      "WARNING:tensorflow:5 out of the last 1879 calls to <function Model.make_predict_function.<locals>.predict_function at 0x0000026702665DC0> triggered tf.function retracing. Tracing is expensive and the excessive number of tracings could be due to (1) creating @tf.function repeatedly in a loop, (2) passing tensors with different shapes, (3) passing Python objects instead of tensors. For (1), please define your @tf.function outside of the loop. For (2), @tf.function has experimental_relax_shapes=True option that relaxes argument shapes that can avoid unnecessary retracing. For (3), please refer to https://www.tensorflow.org/guide/function#controlling_retracing and https://www.tensorflow.org/api_docs/python/tf/function for  more details.\n"
     ]
    },
    {
     "data": {
      "image/png": "[encoded data removed]",
      "text/plain": [
       "<Figure size 432x288 with 1 Axes>"
      ]
     },
     "metadata": {
      "needs_background": "light"
     },
     "output_type": "display_data"
    },
    {
     "data": {
      "text/plain": [
       "11"
      ]
     },
     "execution_count": 36,
     "metadata": {},
     "output_type": "execute_result"
    }
   ],
   "source": [
    "Stolen_model=tf.keras.models.load_model(\"stolen_model.h5\")\n",
    "loss, acc = Stolen_model.evaluate(train_data123)\n",
    "av_out=Stolen_model.predict(train_data123)\n",
    "# print(av_out)\n",
    "# av.shape,av_out.shape\n",
    "av_class=np.argmax(av_out,axis=1)\n",
    "# av_class\n",
    "# np.unique(av_class)\n",
    "plt.hist(av_class)\n",
    "plt.show()\n",
    "len(Stolen_model.layers)"
   ]
  },
  {
   "cell_type": "code",
   "execution_count": 28,
   "id": "e5abe399",
   "metadata": {
    "colab": {
     "base_uri": "https://localhost:8080/"
    },
    "id": "e5abe399",
    "outputId": "01577972-6160-4bf7-8235-8d3adebf7592"
   },
   "outputs": [
    {
     "name": "stdout",
     "output_type": "stream",
     "text": [
      "INFO:tensorflow:Assets written to: C:\\Users\\Abhyanth\\AppData\\Local\\Temp\\tmpiy4ou63i\\assets\n"
     ]
    },
    {
     "name": "stderr",
     "output_type": "stream",
     "text": [
      "WARNING:absl:Buffer deduplication procedure will be skipped when flatbuffer library is not properly loaded\n"
     ]
    },
    {
     "data": {
      "text/plain": [
       "193316"
      ]
     },
     "execution_count": 28,
     "metadata": {},
     "output_type": "execute_result"
    }
   ],
   "source": [
    "converter=tf.lite.TFLiteConverter.from_keras_model(Stolen_model)\n",
    "tflite_modelstolen=converter.convert()\n",
    "\n",
    "open(\"stolen_model.tflite\",\"wb\").write(tflite_modelstolen)"
   ]
  },
  {
   "cell_type": "code",
   "execution_count": 70,
   "id": "9e6c7330",
   "metadata": {},
   "outputs": [
    {
     "data": {
      "image/png": "[encoded data removed]",
      "text/plain": [
       "<Figure size 432x288 with 1 Axes>"
      ]
     },
     "metadata": {
      "needs_background": "light"
     },
     "output_type": "display_data"
    },
    {
     "data": {
      "image/png": "[encoded data removed]",
      "text/plain": [
       "<Figure size 432x288 with 1 Axes>"
      ]
     },
     "metadata": {
      "needs_background": "light"
     },
     "output_type": "display_data"
    }
   ],
   "source": [
    "# Instantiate an interpreter for each model\n",
    "gesture_model = tf.lite.Interpreter('stolen_model.tflite')\n",
    "gesture_model_quantized = tf.lite.Interpreter('models\\Original Model/model_quantized.tflite')\n",
    "\n",
    "# Allocate memory for each model\n",
    "gesture_model.allocate_tensors()\n",
    "gesture_model_quantized.allocate_tensors()\n",
    "\n",
    "# Get indexes of the input and output tensors\n",
    "gesture_model_input_index = gesture_model.get_input_details()[0][\"index\"]\n",
    "gesture_model_output_index = gesture_model.get_output_details()[0][\"index\"]\n",
    "gesture_model_quantized_input_index = gesture_model_quantized.get_input_details()[0][\"index\"]\n",
    "gesture_model_quantized_output_index = \\\n",
    "gesture_model_quantized.get_output_details()[0][\"index\"]\n",
    "# gesture_model_input_index,gesture_model_output_index\n",
    "# Create arrays to store the results\n",
    "gesture_model_predictions = []\n",
    "gesture_model_quantized_predictions = []\n",
    "av1=np.random.randn(5000,128,3,1)\n",
    "av2=np.random.rand(1000,128,3,1)\n",
    "x_test=np.concatenate((av1,av2))\n",
    "# Run each model's interpreter for each value and store the results in arrays\n",
    "for x_value in iter1:\n",
    "#     print(len(x_value))\n",
    "    # Create a 2D tensor wrapping the current x value\n",
    "    x_value_tensor = tf.convert_to_tensor([x_value], dtype=np.float32)\n",
    "#     print(\"answer2:::::::;;\",x_value_tensor)\n",
    "    # Write the value to the input tensor\n",
    "    gesture_model.set_tensor(gesture_model_input_index, x_value_tensor)\n",
    "    # Run inference\n",
    "    gesture_model.invoke()\n",
    "   # Read the prediction from the output tensor\n",
    "    gesture_model_predictions.append(\n",
    "    gesture_model.get_tensor(gesture_model_output_index)[0])\n",
    "   # Do the same for the quantized model\n",
    "    gesture_model_quantized.set_tensor(gesture_model_quantized_input_index, x_value_tensor)\n",
    "    gesture_model_quantized.invoke()\n",
    "    gesture_model_quantized_predictions.append(\n",
    "    gesture_model_quantized.get_tensor(gesture_model_quantized_output_index)[0])\n",
    "# print(gesture_model_predictions)\n",
    "fig, ax = plt.subplots(1, 1)\n",
    "avlite_class=np.argmax(gesture_model_predictions,axis=1)\n",
    "ax.hist(avlite_class)\n",
    "# Set title\n",
    "ax.set_title(\"TF-lite model\")\n",
    "ax.set_xlabel('Classes')\n",
    "ax.set_ylabel('Predictions')\n",
    "plt.show()\n",
    "avlitequantized_class=np.argmax(gesture_model_quantized_predictions,axis=1)\n",
    "fig, ax = plt.subplots(1, 1)\n",
    "plt.hist(avlitequantized_class)\n",
    "ax.set_title(\"TF-lite-quantized model\")\n",
    "ax.set_xlabel('Classes')\n",
    "ax.set_ylabel('Predictions')\n",
    "plt.show()"
   ]
  },
  {
   "cell_type": "markdown",
   "id": "ibUyW9kQWAjK",
   "metadata": {
    "id": "ibUyW9kQWAjK"
   },
   "source": [
    "**DEFENCE**\n",
    "\n",
    "\n",
    "1.   Converting the attack vector dataset to tesnor slice dataset to make similar to the original training dataset\n",
    "2.   Preparing the training dataset for the defense model by combining the attack vectors and original training dataset\n",
    "3. Storing the newely generated dataset in pickle format \n",
    "\n"
   ]
  },
  {
   "cell_type": "code",
   "execution_count": 8,
   "id": "lS9bGRdGqMXM",
   "metadata": {
    "id": "lS9bGRdGqMXM"
   },
   "outputs": [],
   "source": [
    "pickle_off = open(\"attack_vectors.pkl\", 'rb')\n",
    "contents_pickle = pickle.load(pickle_off)\n",
    "contents_pickle[0].shape,contents_pickle[1].shape\n",
    "av_training_dataset=tf.data.Dataset.from_tensor_slices((contents_pickle[0],contents_pickle[1]))"
   ]
  },
  {
   "cell_type": "code",
   "execution_count": 37,
   "id": "sudqdENfqaAH",
   "metadata": {
    "id": "sudqdENfqaAH"
   },
   "outputs": [
    {
     "data": {
      "text/plain": [
       "((17400, 128, 3, 1), (17400,))"
      ]
     },
     "execution_count": 37,
     "metadata": {},
     "output_type": "execute_result"
    }
   ],
   "source": [
    "train_data = train_data.map(reshape_function)\n",
    "orig_data=next(train_data.batch(9000).as_numpy_iterator())[0]\n",
    "orig_labels=next(train_data.batch(9000).as_numpy_iterator())[1]\n",
    "av_data=next(av_training_dataset.batch(9000).as_numpy_iterator())[0]\n",
    "av_labels=next(av_training_dataset.batch(9000).as_numpy_iterator())[1]\n",
    "orig_data.shape,orig_labels.shape,av_data.shape,av_labels.shape\n",
    "new_av_lables = np.where( av_labels< 3, 3, av_labels)\n",
    "final_data=np.concatenate([orig_data,av_data])\n",
    "final_labels=np.concatenate([orig_labels,new_av_lables])\n",
    "# final_data = np.repeat(final_data, 4,axis=0)\n",
    "# final_labels = np.repeat(final_labels, 4)\n",
    "final_data.shape,final_labels.shape"
   ]
  },
  {
   "cell_type": "code",
   "execution_count": 22,
   "id": "XYUNJCxLqlJ5",
   "metadata": {
    "id": "XYUNJCxLqlJ5"
   },
   "outputs": [
    {
     "data": {
      "text/plain": [
       "((17400, 128, 3, 1), (17400,))"
      ]
     },
     "execution_count": 22,
     "metadata": {},
     "output_type": "execute_result"
    }
   ],
   "source": [
    "file_new = open('Attack vectors_new dataset/new_training_data.pkl', 'wb')\n",
    "pickle.dump([final_data,final_labels],file_new)\n",
    "file_new.close()\n",
    "pickle_off_new = open(\"Attack vectors_new dataset/new_training_data.pkl\", 'rb')\n",
    "contents_pickle_new = pickle.load(pickle_off_new)\n",
    "contents_pickle_new[0].shape,contents_pickle_new[1].shape"
   ]
  },
  {
   "cell_type": "code",
   "execution_count": 39,
   "id": "x6dfltcfx8Z5",
   "metadata": {
    "colab": {
     "base_uri": "https://localhost:8080/"
    },
    "id": "x6dfltcfx8Z5",
    "outputId": "e9e39ede-48e2-4989-a14c-8c93e510fad8"
   },
   "outputs": [],
   "source": [
    "def_model = tf.keras.Sequential([\n",
    "      tf.keras.layers.Bidirectional(\n",
    "          tf.keras.layers.LSTM(22),\n",
    "          input_shape=(seq_length, 3)),  # output_shape=(batch, 44)\n",
    "      tf.keras.layers.Dense(4, activation=\"sigmoid\")  # (batch, 4)\n",
    "  ])"
   ]
  },
  {
   "cell_type": "code",
   "execution_count": 40,
   "id": "vVXKHlIwyzIb",
   "metadata": {
    "id": "vVXKHlIwyzIb"
   },
   "outputs": [],
   "source": [
    "def_model.compile(optimizer=\"adam\",\n",
    "                loss=\"sparse_categorical_crossentropy\",\n",
    "                metrics=[\"accuracy\"])"
   ]
  },
  {
   "cell_type": "code",
   "execution_count": 25,
   "id": "Yj4kggf-1fXZ",
   "metadata": {
    "colab": {
     "base_uri": "https://localhost:8080/"
    },
    "id": "Yj4kggf-1fXZ",
    "outputId": "fd4c16c0-3e43-41cc-ec88-f0a34bc6a4a4"
   },
   "outputs": [
    {
     "name": "stdout",
     "output_type": "stream",
     "text": [
      "Epoch 1/10\n",
      "200/200 [==============================] - 9s 37ms/step - loss: 0.5829 - accuracy: 0.7947\n",
      "Epoch 2/10\n",
      "200/200 [==============================] - 11s 57ms/step - loss: 0.2280 - accuracy: 0.9213\n",
      "Epoch 3/10\n",
      "200/200 [==============================] - 11s 56ms/step - loss: 0.1480 - accuracy: 0.9507\n",
      "Epoch 4/10\n",
      "200/200 [==============================] - 9s 45ms/step - loss: 0.1191 - accuracy: 0.9593\n",
      "Epoch 5/10\n",
      "200/200 [==============================] - 9s 47ms/step - loss: 0.0894 - accuracy: 0.9702\n",
      "Epoch 6/10\n",
      "200/200 [==============================] - 10s 48ms/step - loss: 0.0705 - accuracy: 0.9775\n",
      "Epoch 7/10\n",
      "200/200 [==============================] - 9s 47ms/step - loss: 0.0666 - accuracy: 0.9782\n",
      "Epoch 8/10\n",
      "200/200 [==============================] - 10s 48ms/step - loss: 0.0527 - accuracy: 0.9840\n",
      "Epoch 9/10\n",
      "200/200 [==============================] - 9s 47ms/step - loss: 0.0538 - accuracy: 0.9842\n",
      "Epoch 10/10\n",
      "200/200 [==============================] - 10s 48ms/step - loss: 0.0482 - accuracy: 0.9854\n"
     ]
    },
    {
     "data": {
      "text/plain": [
       "<keras.callbacks.History at 0x191239f02e0>"
      ]
     },
     "execution_count": 25,
     "metadata": {},
     "output_type": "execute_result"
    }
   ],
   "source": [
    "def_model.fit(contents_pickle_new[0],contents_pickle_new[1],epochs=10,steps_per_epoch=200)\n",
    "\n"
   ]
  },
  {
   "cell_type": "code",
   "execution_count": 49,
   "id": "zAsjxSyi3JZt",
   "metadata": {
    "id": "zAsjxSyi3JZt"
   },
   "outputs": [
    {
     "name": "stdout",
     "output_type": "stream",
     "text": [
      "1/1 [==============================] - 0s 43ms/step - loss: 0.0721 - accuracy: 0.9831\n"
     ]
    }
   ],
   "source": [
    "loss, acc = def_model.evaluate(test_data_batch)"
   ]
  },
  {
   "cell_type": "code",
   "execution_count": 61,
   "id": "b3de707c",
   "metadata": {},
   "outputs": [
    {
     "data": {
      "text/plain": [
       "<tf.Tensor: shape=(4, 4), dtype=int32, numpy=\n",
       "array([[32,  0,  0,  0],\n",
       "       [ 1, 44,  1,  0],\n",
       "       [ 0,  0, 40,  0],\n",
       "       [ 0,  0,  0,  0]])>"
      ]
     },
     "execution_count": 61,
     "metadata": {},
     "output_type": "execute_result"
    }
   ],
   "source": [
    "test_labels = np.zeros(test_len)\n",
    "idx=0\n",
    "for data, label in test_data: \n",
    "    # pylint: disable=unused-variable\n",
    "    test_labels[idx] = label.numpy()\n",
    "    idx += 1\n",
    "pred = np.argmax(def_model.predict(test_data_batch), axis=1)\n",
    "confusion = tf.math.confusion_matrix(labels=test_labels,\n",
    "                                       predictions=tf.constant(pred),\n",
    "                                       num_classes=4)\n",
    "confusion"
   ]
  },
  {
   "cell_type": "code",
   "execution_count": 28,
   "id": "deHcMLuE8oMb",
   "metadata": {
    "colab": {
     "base_uri": "https://localhost:8080/"
    },
    "id": "deHcMLuE8oMb",
    "outputId": "107f6f1f-5fe7-46e2-fa19-7313fc646756"
   },
   "outputs": [
    {
     "data": {
      "text/plain": [
       "(array([0, 1, 2, 3], dtype=int64),\n",
       " array([ 8800, 13200, 11600,  4800], dtype=int64))"
      ]
     },
     "execution_count": 28,
     "metadata": {},
     "output_type": "execute_result"
    }
   ],
   "source": [
    "np.unique(contents_pickle_new[1],return_counts=True)"
   ]
  },
  {
   "cell_type": "code",
   "execution_count": 101,
   "id": "E4GnlR8c8sqG",
   "metadata": {
    "colab": {
     "base_uri": "https://localhost:8080/"
    },
    "id": "E4GnlR8c8sqG",
    "outputId": "41ae6e76-acf8-4b61-ca80-af2082558390"
   },
   "outputs": [
    {
     "data": {
      "image/png": "[encoded data removed]",
      "text/plain": [
       "<Figure size 432x288 with 1 Axes>"
      ]
     },
     "metadata": {
      "needs_background": "light"
     },
     "output_type": "display_data"
    }
   ],
   "source": [
    "av_def1=np.random.randn(500,128,3)\n",
    "av_def2=np.random.rand(100,128,3)\n",
    "av_def=np.concatenate((av_def1,av_def2))\n",
    "# check=test_data_batch\n",
    "check=av_def\n",
    "def_out=def_model.predict(check)\n",
    "#print(av_out)\n",
    "# av.shape,av_out.shape\n",
    "def_class=np.argmax(def_out,axis=1)\n",
    "l11=defense(def_class)\n",
    "# av_class\n",
    "# np.unique(av_class)\n",
    "\n",
    "def defense(l10):\n",
    "    for i in range(0,len(l10)):\n",
    "        if l10[i]==3:\n",
    "            l10[i]=np.random.randint(0,3)\n",
    "    plt.hist(l10)\n",
    "    plt.show()\n",
    "    return l10"
   ]
  },
  {
   "cell_type": "raw",
   "id": "cd0e1af2",
   "metadata": {},
   "source": [
    "def_model.summary()"
   ]
  },
  {
   "cell_type": "code",
   "execution_count": 37,
   "id": "ElD1m9DVHKnp",
   "metadata": {
    "colab": {
     "base_uri": "https://localhost:8080/"
    },
    "id": "ElD1m9DVHKnp",
    "outputId": "672decf3-eab6-4599-f90a-fb5a233021b8"
   },
   "outputs": [
    {
     "data": {
      "text/plain": [
       "array([[[[-1.33342609e-02],\n",
       "         [ 2.39988750e-01],\n",
       "         [ 2.46115812e+00]],\n",
       "\n",
       "        [[ 4.06180299e-01],\n",
       "         [ 1.92120407e+00],\n",
       "         [-2.00174440e+00]],\n",
       "\n",
       "        [[-7.46827095e-01],\n",
       "         [-6.61252917e-01],\n",
       "         [-6.80536557e-01]],\n",
       "\n",
       "        [[ 7.23036205e-01],\n",
       "         [-1.86084554e-01],\n",
       "         [ 3.47435205e-01]],\n",
       "\n",
       "        [[-1.20393716e+00],\n",
       "         [-2.04420562e+00],\n",
       "         [-1.54258461e-01]],\n",
       "\n",
       "        [[-7.67268355e-01],\n",
       "         [-5.32328563e-02],\n",
       "         [-1.91334976e+00]],\n",
       "\n",
       "        [[-2.25751617e+00],\n",
       "         [ 9.27179536e-02],\n",
       "         [-3.08180989e-01]],\n",
       "\n",
       "        [[ 1.23243056e+00],\n",
       "         [-5.70353590e-01],\n",
       "         [ 2.11682662e+00]],\n",
       "\n",
       "        [[-2.13794426e+00],\n",
       "         [ 5.28582371e-01],\n",
       "         [ 8.41331524e-01]],\n",
       "\n",
       "        [[ 1.64873108e-01],\n",
       "         [-5.62674067e-01],\n",
       "         [-1.02569655e+00]],\n",
       "\n",
       "        [[ 3.80016602e-01],\n",
       "         [-6.47250560e-01],\n",
       "         [ 6.84208463e-01]],\n",
       "\n",
       "        [[ 5.81561865e-01],\n",
       "         [-8.54540229e-01],\n",
       "         [ 1.47315211e+00]],\n",
       "\n",
       "        [[ 8.29721303e-01],\n",
       "         [ 8.72260905e-01],\n",
       "         [ 1.12395443e+00]],\n",
       "\n",
       "        [[-6.82148373e-01],\n",
       "         [ 9.54419448e-01],\n",
       "         [-6.38541325e-01]],\n",
       "\n",
       "        [[-3.49239878e-01],\n",
       "         [-4.21532573e-01],\n",
       "         [-8.87252175e-01]],\n",
       "\n",
       "        [[-7.75941576e-01],\n",
       "         [-3.43889549e-01],\n",
       "         [ 1.39599971e+00]],\n",
       "\n",
       "        [[-4.76524560e-01],\n",
       "         [-8.31606227e-02],\n",
       "         [-1.26743942e+00]],\n",
       "\n",
       "        [[ 7.79316101e-01],\n",
       "         [-1.61892394e+00],\n",
       "         [-2.07373520e+00]],\n",
       "\n",
       "        [[ 3.41049132e-01],\n",
       "         [ 2.42778756e+00],\n",
       "         [-1.46726942e+00]],\n",
       "\n",
       "        [[-2.64161617e-01],\n",
       "         [ 4.79584159e-01],\n",
       "         [ 1.50811139e-01]],\n",
       "\n",
       "        [[-5.09151030e-01],\n",
       "         [ 3.97509803e-01],\n",
       "         [-1.56736423e+00]],\n",
       "\n",
       "        [[-1.28386651e+00],\n",
       "         [ 9.64157930e-01],\n",
       "         [ 2.11313638e+00]],\n",
       "\n",
       "        [[ 8.19142294e-02],\n",
       "         [-7.42902962e-01],\n",
       "         [ 7.33968651e-01]],\n",
       "\n",
       "        [[-2.93268598e-01],\n",
       "         [ 3.79346088e-01],\n",
       "         [ 8.57180174e-01]],\n",
       "\n",
       "        [[ 5.53826020e-02],\n",
       "         [ 3.76569969e-01],\n",
       "         [-1.80994929e-01]],\n",
       "\n",
       "        [[-5.47989635e-01],\n",
       "         [ 1.58886181e-02],\n",
       "         [-2.90416207e-01]],\n",
       "\n",
       "        [[ 5.74061448e-02],\n",
       "         [-1.28281706e-01],\n",
       "         [-2.27817201e-01]],\n",
       "\n",
       "        [[ 1.42024592e+00],\n",
       "         [-3.81301581e-01],\n",
       "         [-3.05893149e-02]],\n",
       "\n",
       "        [[ 7.04086851e-02],\n",
       "         [ 1.17064055e+00],\n",
       "         [ 7.56005419e-02]],\n",
       "\n",
       "        [[ 3.90269817e-01],\n",
       "         [ 7.90334043e-01],\n",
       "         [-1.24282101e+00]],\n",
       "\n",
       "        [[-1.53019838e+00],\n",
       "         [-1.22734896e-01],\n",
       "         [-4.36808116e-02]],\n",
       "\n",
       "        [[-1.09679008e+00],\n",
       "         [-1.19425817e+00],\n",
       "         [ 4.52844028e-01]],\n",
       "\n",
       "        [[-1.15616984e+00],\n",
       "         [-3.42760116e-01],\n",
       "         [-9.61142340e-01]],\n",
       "\n",
       "        [[ 1.18643473e+00],\n",
       "         [-1.45691358e-01],\n",
       "         [-7.24221833e-01]],\n",
       "\n",
       "        [[ 1.63191877e+00],\n",
       "         [-5.87836325e-01],\n",
       "         [-6.87668905e-01]],\n",
       "\n",
       "        [[ 1.07622432e+00],\n",
       "         [ 7.30319580e-01],\n",
       "         [-7.04516758e-01]],\n",
       "\n",
       "        [[ 4.53442794e-01],\n",
       "         [ 4.55138374e-01],\n",
       "         [-1.11935113e+00]],\n",
       "\n",
       "        [[ 3.30083174e-01],\n",
       "         [-1.00511027e+00],\n",
       "         [-6.13265808e-01]],\n",
       "\n",
       "        [[-1.30698465e-02],\n",
       "         [-1.36343486e+00],\n",
       "         [ 1.03067571e+00]],\n",
       "\n",
       "        [[ 7.04592531e-01],\n",
       "         [ 8.64939179e-02],\n",
       "         [ 1.14109275e-01]],\n",
       "\n",
       "        [[-3.94560182e-01],\n",
       "         [-6.29699247e-01],\n",
       "         [ 8.15246771e-01]],\n",
       "\n",
       "        [[ 2.19743765e+00],\n",
       "         [-5.91505504e-01],\n",
       "         [ 2.18844534e-01]],\n",
       "\n",
       "        [[ 7.06351677e-01],\n",
       "         [-6.91978886e-01],\n",
       "         [ 7.45543933e-01]],\n",
       "\n",
       "        [[ 7.33800518e-01],\n",
       "         [ 2.27631484e+00],\n",
       "         [-2.05395270e-02]],\n",
       "\n",
       "        [[-6.02157372e-01],\n",
       "         [-2.95814337e-04],\n",
       "         [ 1.99055172e+00]],\n",
       "\n",
       "        [[ 1.37854256e+00],\n",
       "         [ 7.72340870e-02],\n",
       "         [ 9.76449722e-01]],\n",
       "\n",
       "        [[-9.61232817e-01],\n",
       "         [ 7.80333407e-01],\n",
       "         [ 1.08351536e+00]],\n",
       "\n",
       "        [[-1.83689391e+00],\n",
       "         [-3.30638771e-01],\n",
       "         [ 3.37261274e-03]],\n",
       "\n",
       "        [[ 1.20277986e+00],\n",
       "         [ 1.95917738e-01],\n",
       "         [-6.18246373e-01]],\n",
       "\n",
       "        [[ 1.55768924e+00],\n",
       "         [ 1.09343618e+00],\n",
       "         [-1.77721149e-01]],\n",
       "\n",
       "        [[-1.12818453e+00],\n",
       "         [ 9.75550009e-01],\n",
       "         [-1.83349628e-01]],\n",
       "\n",
       "        [[-1.03624635e+00],\n",
       "         [ 2.43463696e+00],\n",
       "         [-1.68955755e+00]],\n",
       "\n",
       "        [[-1.19015300e+00],\n",
       "         [-4.85989289e-01],\n",
       "         [-7.80218361e-01]],\n",
       "\n",
       "        [[ 3.83181086e-01],\n",
       "         [-1.16870836e+00],\n",
       "         [ 6.80348382e-02]],\n",
       "\n",
       "        [[ 1.24148492e-01],\n",
       "         [-1.63404350e-01],\n",
       "         [-8.71514801e-01]],\n",
       "\n",
       "        [[-4.42144343e-02],\n",
       "         [-2.54670676e-01],\n",
       "         [-8.55266740e-01]],\n",
       "\n",
       "        [[-4.90356119e-01],\n",
       "         [-7.45601623e-01],\n",
       "         [ 2.66883536e+00]],\n",
       "\n",
       "        [[ 2.02019368e-01],\n",
       "         [-9.69331623e-01],\n",
       "         [-1.23488811e+00]],\n",
       "\n",
       "        [[ 2.27211056e+00],\n",
       "         [ 1.11051704e+00],\n",
       "         [-1.07018228e+00]],\n",
       "\n",
       "        [[-2.45266440e-02],\n",
       "         [ 9.19374557e-01],\n",
       "         [ 8.93154377e-01]],\n",
       "\n",
       "        [[-1.60426732e+00],\n",
       "         [ 1.39367458e+00],\n",
       "         [-1.38857188e-01]],\n",
       "\n",
       "        [[ 9.28432920e-01],\n",
       "         [-5.65526045e-01],\n",
       "         [-1.35115782e+00]],\n",
       "\n",
       "        [[ 1.58569792e+00],\n",
       "         [-1.49484222e+00],\n",
       "         [ 4.29996586e-01]],\n",
       "\n",
       "        [[ 8.33613503e-01],\n",
       "         [ 2.12161326e+00],\n",
       "         [ 1.66223794e-02]],\n",
       "\n",
       "        [[ 5.91652270e-01],\n",
       "         [ 1.79774923e+00],\n",
       "         [ 5.03871934e-01]],\n",
       "\n",
       "        [[ 7.43594510e-01],\n",
       "         [ 4.49377498e-01],\n",
       "         [-1.27683705e+00]],\n",
       "\n",
       "        [[ 3.25990160e-01],\n",
       "         [-1.87619054e+00],\n",
       "         [-1.56755405e+00]],\n",
       "\n",
       "        [[-1.25751918e-01],\n",
       "         [-2.42932130e-01],\n",
       "         [ 2.33186705e-01]],\n",
       "\n",
       "        [[-7.23711552e-01],\n",
       "         [-1.70268464e+00],\n",
       "         [-1.28212321e+00]],\n",
       "\n",
       "        [[ 8.98295959e-01],\n",
       "         [-1.33722712e+00],\n",
       "         [-1.96502451e-01]],\n",
       "\n",
       "        [[ 6.61399203e-01],\n",
       "         [ 1.42259146e+00],\n",
       "         [ 6.63306227e-01]],\n",
       "\n",
       "        [[-4.36563377e-01],\n",
       "         [-4.71478899e-01],\n",
       "         [-4.46678085e-01]],\n",
       "\n",
       "        [[ 1.27085217e-01],\n",
       "         [ 1.94061982e-01],\n",
       "         [-2.48654187e-01]],\n",
       "\n",
       "        [[-2.43461373e+00],\n",
       "         [ 2.68464044e-01],\n",
       "         [ 1.36200937e+00]],\n",
       "\n",
       "        [[ 9.13980764e-01],\n",
       "         [ 1.06286189e-01],\n",
       "         [ 6.04570862e-02]],\n",
       "\n",
       "        [[ 1.88523431e+00],\n",
       "         [ 2.89609739e-01],\n",
       "         [-6.24531760e-01]],\n",
       "\n",
       "        [[ 9.53621764e-01],\n",
       "         [ 1.52310509e+00],\n",
       "         [ 6.24420667e-01]],\n",
       "\n",
       "        [[ 8.51456489e-01],\n",
       "         [ 1.67161572e+00],\n",
       "         [-1.45616338e+00]],\n",
       "\n",
       "        [[ 6.26256707e-02],\n",
       "         [-2.89219388e-01],\n",
       "         [ 3.84476675e-01]],\n",
       "\n",
       "        [[ 6.44507145e-01],\n",
       "         [ 1.75147534e-01],\n",
       "         [-5.20732383e-01]],\n",
       "\n",
       "        [[-5.01355204e-01],\n",
       "         [-9.91968060e-01],\n",
       "         [ 5.59580536e-01]],\n",
       "\n",
       "        [[ 3.19902904e-01],\n",
       "         [ 1.89801084e+00],\n",
       "         [ 2.59687575e-01]],\n",
       "\n",
       "        [[ 2.70259073e+00],\n",
       "         [-6.80101598e-01],\n",
       "         [ 5.71575353e-01]],\n",
       "\n",
       "        [[ 1.81161454e+00],\n",
       "         [-3.01738286e-01],\n",
       "         [-9.56667932e-01]],\n",
       "\n",
       "        [[-5.64177839e-01],\n",
       "         [-2.00254443e+00],\n",
       "         [ 8.84701520e-01]],\n",
       "\n",
       "        [[ 1.05982373e+00],\n",
       "         [-1.37073288e-01],\n",
       "         [ 1.21209677e+00]],\n",
       "\n",
       "        [[-2.93973088e+00],\n",
       "         [-1.85900119e-01],\n",
       "         [ 7.11858767e-03]],\n",
       "\n",
       "        [[ 1.62918368e-01],\n",
       "         [ 2.01302105e-01],\n",
       "         [-7.64555987e-01]],\n",
       "\n",
       "        [[ 4.67336400e-01],\n",
       "         [-7.56251408e-01],\n",
       "         [ 7.03970015e-02]],\n",
       "\n",
       "        [[ 1.81734730e+00],\n",
       "         [ 6.96793522e-01],\n",
       "         [ 6.48695719e-01]],\n",
       "\n",
       "        [[ 8.63465349e-01],\n",
       "         [ 3.04743457e-01],\n",
       "         [ 6.06717515e-01]],\n",
       "\n",
       "        [[ 9.76233221e-01],\n",
       "         [ 2.52162610e+00],\n",
       "         [-2.22325668e-03]],\n",
       "\n",
       "        [[ 1.10797135e-01],\n",
       "         [ 9.75134862e-01],\n",
       "         [ 2.06679264e+00]],\n",
       "\n",
       "        [[ 3.64034669e-01],\n",
       "         [-4.05382418e-01],\n",
       "         [ 7.29932223e-01]],\n",
       "\n",
       "        [[ 7.44731789e-01],\n",
       "         [-2.79037508e-01],\n",
       "         [-1.29372688e+00]],\n",
       "\n",
       "        [[-7.65273294e-01],\n",
       "         [ 3.74268846e-02],\n",
       "         [ 8.99921055e-01]],\n",
       "\n",
       "        [[-4.38145637e-01],\n",
       "         [ 4.49397142e-01],\n",
       "         [ 1.07617883e+00]],\n",
       "\n",
       "        [[ 2.06796617e+00],\n",
       "         [-6.38404403e-01],\n",
       "         [-8.86478168e-01]],\n",
       "\n",
       "        [[ 8.69811514e-01],\n",
       "         [ 1.70652347e+00],\n",
       "         [-1.37177854e+00]],\n",
       "\n",
       "        [[ 7.69336338e-02],\n",
       "         [ 4.43556095e-01],\n",
       "         [ 9.92966526e-01]],\n",
       "\n",
       "        [[ 8.62151501e-01],\n",
       "         [ 1.16279208e+00],\n",
       "         [-4.89513527e-01]],\n",
       "\n",
       "        [[ 2.79005425e-01],\n",
       "         [-4.74072178e-02],\n",
       "         [ 6.44483556e-01]],\n",
       "\n",
       "        [[ 1.64848062e+00],\n",
       "         [-1.54660509e+00],\n",
       "         [ 2.49921077e+00]],\n",
       "\n",
       "        [[ 7.47594796e-01],\n",
       "         [-6.78498728e-01],\n",
       "         [-1.72016855e+00]],\n",
       "\n",
       "        [[ 5.81175365e-01],\n",
       "         [-3.98070655e-01],\n",
       "         [ 7.88592828e-01]],\n",
       "\n",
       "        [[ 2.79357545e-01],\n",
       "         [ 5.66632991e-01],\n",
       "         [ 1.40183977e+00]],\n",
       "\n",
       "        [[ 1.47224034e-01],\n",
       "         [-1.37610791e+00],\n",
       "         [ 3.42818062e-02]],\n",
       "\n",
       "        [[ 1.44682605e+00],\n",
       "         [ 3.61626001e-01],\n",
       "         [-2.16091553e-02]],\n",
       "\n",
       "        [[-6.45493652e-01],\n",
       "         [-4.44080587e-01],\n",
       "         [-3.47503458e-01]],\n",
       "\n",
       "        [[-8.54816908e-01],\n",
       "         [ 2.07029468e+00],\n",
       "         [-3.89413381e-02]],\n",
       "\n",
       "        [[ 1.73542959e+00],\n",
       "         [ 3.50073641e-01],\n",
       "         [ 6.90939354e-01]],\n",
       "\n",
       "        [[ 9.55320366e-01],\n",
       "         [-2.78781128e-01],\n",
       "         [-1.94140092e+00]],\n",
       "\n",
       "        [[-8.36631698e-01],\n",
       "         [ 1.80555156e+00],\n",
       "         [-3.12459241e-01]],\n",
       "\n",
       "        [[-1.04078815e+00],\n",
       "         [ 1.66562595e+00],\n",
       "         [ 2.23664766e+00]],\n",
       "\n",
       "        [[ 1.43376945e-01],\n",
       "         [-1.45754026e+00],\n",
       "         [ 4.32600170e-01]],\n",
       "\n",
       "        [[ 1.39137198e-01],\n",
       "         [ 1.65567729e-01],\n",
       "         [ 9.15760462e-01]],\n",
       "\n",
       "        [[-8.01633627e-01],\n",
       "         [-1.07290815e+00],\n",
       "         [-6.33340723e-01]],\n",
       "\n",
       "        [[-1.73026560e-01],\n",
       "         [-5.72220574e-01],\n",
       "         [-1.37394575e+00]],\n",
       "\n",
       "        [[ 1.30732020e+00],\n",
       "         [ 3.41282386e-01],\n",
       "         [-1.25728862e+00]],\n",
       "\n",
       "        [[ 3.46440563e-01],\n",
       "         [ 1.82342231e+00],\n",
       "         [ 7.45540511e-01]],\n",
       "\n",
       "        [[-4.51364497e-01],\n",
       "         [ 1.44670751e+00],\n",
       "         [-2.53290722e-01]],\n",
       "\n",
       "        [[-1.04833609e+00],\n",
       "         [ 8.48909019e-01],\n",
       "         [ 9.36688776e-01]],\n",
       "\n",
       "        [[-4.31471335e-01],\n",
       "         [ 1.59256863e-01],\n",
       "         [ 3.04707907e-01]],\n",
       "\n",
       "        [[ 1.24659769e+00],\n",
       "         [-3.11064023e-01],\n",
       "         [ 3.35692411e-01]],\n",
       "\n",
       "        [[-9.36057714e-02],\n",
       "         [-9.57779771e-01],\n",
       "         [ 1.31274071e+00]],\n",
       "\n",
       "        [[-5.43187272e-01],\n",
       "         [ 2.88640139e+00],\n",
       "         [-6.23349126e-01]],\n",
       "\n",
       "        [[-1.16076910e+00],\n",
       "         [-1.17356319e+00],\n",
       "         [ 5.71824851e-01]],\n",
       "\n",
       "        [[ 2.71804827e-01],\n",
       "         [-3.43209280e-02],\n",
       "         [ 8.65058392e-01]],\n",
       "\n",
       "        [[ 3.32269170e-01],\n",
       "         [ 7.38552645e-02],\n",
       "         [-2.03499524e+00]],\n",
       "\n",
       "        [[ 1.32532097e+00],\n",
       "         [-5.34384163e-01],\n",
       "         [-5.04716596e-01]],\n",
       "\n",
       "        [[ 5.27059437e-01],\n",
       "         [-9.04001901e-01],\n",
       "         [-7.87372773e-01]],\n",
       "\n",
       "        [[ 3.72879568e-01],\n",
       "         [ 1.04668967e+00],\n",
       "         [-9.90057742e-01]],\n",
       "\n",
       "        [[-4.87262487e-01],\n",
       "         [ 2.11633508e-01],\n",
       "         [-1.15255786e+00]],\n",
       "\n",
       "        [[ 2.92826811e+00],\n",
       "         [-8.46647769e-01],\n",
       "         [ 8.12251095e-01]],\n",
       "\n",
       "        [[ 1.24874647e+00],\n",
       "         [ 7.56693848e-01],\n",
       "         [ 2.51157572e-01]],\n",
       "\n",
       "        [[ 1.50256264e+00],\n",
       "         [-9.48213692e-02],\n",
       "         [ 4.99999837e-01]],\n",
       "\n",
       "        [[-2.75643797e-01],\n",
       "         [ 1.06861410e+00],\n",
       "         [-5.97352211e-02]],\n",
       "\n",
       "        [[ 1.38914942e+00],\n",
       "         [-1.32293673e-01],\n",
       "         [-2.84486022e+00]],\n",
       "\n",
       "        [[-2.70139293e+00],\n",
       "         [ 8.41920007e-01],\n",
       "         [-4.52919391e-01]],\n",
       "\n",
       "        [[ 6.91313331e-01],\n",
       "         [-4.57807854e-01],\n",
       "         [-4.53058019e-01]],\n",
       "\n",
       "        [[ 9.03128193e-01],\n",
       "         [ 1.78105798e-01],\n",
       "         [ 7.42535631e-03]],\n",
       "\n",
       "        [[-5.86272929e-01],\n",
       "         [-1.18161414e-02],\n",
       "         [-1.83000759e-01]],\n",
       "\n",
       "        [[-2.28391402e+00],\n",
       "         [-1.15845202e+00],\n",
       "         [-7.10833691e-01]],\n",
       "\n",
       "        [[ 8.12332715e-01],\n",
       "         [-2.14834761e-01],\n",
       "         [-2.90511955e-01]],\n",
       "\n",
       "        [[ 1.21174062e+00],\n",
       "         [ 7.77366292e-01],\n",
       "         [-1.80701251e+00]],\n",
       "\n",
       "        [[-7.72343623e-01],\n",
       "         [ 6.62576541e-01],\n",
       "         [-3.32378760e-01]],\n",
       "\n",
       "        [[-8.61019880e-01],\n",
       "         [-2.26176751e+00],\n",
       "         [-7.88288368e-02]],\n",
       "\n",
       "        [[ 1.54807104e+00],\n",
       "         [-1.85353778e+00],\n",
       "         [ 5.50043817e-01]],\n",
       "\n",
       "        [[ 7.59719651e-01],\n",
       "         [-4.21695453e-01],\n",
       "         [-2.20192250e-01]],\n",
       "\n",
       "        [[ 1.60144714e-01],\n",
       "         [-1.21717382e-01],\n",
       "         [ 1.14153253e-01]],\n",
       "\n",
       "        [[-5.44856878e-01],\n",
       "         [-3.31645937e-01],\n",
       "         [-1.18292863e+00]],\n",
       "\n",
       "        [[ 1.54985044e+00],\n",
       "         [ 1.16327063e-01],\n",
       "         [-2.72596368e-01]],\n",
       "\n",
       "        [[ 1.15721051e-01],\n",
       "         [ 3.77443176e-01],\n",
       "         [-8.47773056e-01]],\n",
       "\n",
       "        [[-7.44221316e-02],\n",
       "         [ 7.21580362e-01],\n",
       "         [ 5.83952749e-01]],\n",
       "\n",
       "        [[-3.64453120e-01],\n",
       "         [-3.26952318e+00],\n",
       "         [ 1.63794344e+00]],\n",
       "\n",
       "        [[-3.78611264e-01],\n",
       "         [-3.75360424e-02],\n",
       "         [-2.58023501e-01]],\n",
       "\n",
       "        [[ 9.46787242e-01],\n",
       "         [ 9.01651063e-01],\n",
       "         [-4.69419325e-01]],\n",
       "\n",
       "        [[-1.27268245e-01],\n",
       "         [ 1.06139234e+00],\n",
       "         [-2.96310199e-01]],\n",
       "\n",
       "        [[-2.88972850e-01],\n",
       "         [-7.16158641e-01],\n",
       "         [-1.31329112e-01]],\n",
       "\n",
       "        [[-3.78673761e-01],\n",
       "         [-4.44850836e-01],\n",
       "         [ 1.44472711e+00]],\n",
       "\n",
       "        [[ 7.63815301e-01],\n",
       "         [-2.57933548e+00],\n",
       "         [ 6.27106956e-01]],\n",
       "\n",
       "        [[ 8.14448449e-01],\n",
       "         [ 4.93624249e-01],\n",
       "         [ 5.05051737e-01]],\n",
       "\n",
       "        [[ 1.33831169e+00],\n",
       "         [ 7.85601588e-01],\n",
       "         [ 2.22607019e+00]],\n",
       "\n",
       "        [[ 7.18829854e-02],\n",
       "         [ 3.15044902e-01],\n",
       "         [-1.91073201e-02]],\n",
       "\n",
       "        [[-1.09066323e+00],\n",
       "         [-8.02510654e-01],\n",
       "         [ 9.06045060e-01]],\n",
       "\n",
       "        [[-5.78706516e-01],\n",
       "         [ 3.55215703e-01],\n",
       "         [ 8.02414599e-01]],\n",
       "\n",
       "        [[ 3.37943621e-01],\n",
       "         [ 2.54659453e-01],\n",
       "         [ 4.12278827e-02]],\n",
       "\n",
       "        [[-1.84846483e+00],\n",
       "         [-7.11866089e-02],\n",
       "         [ 6.12454870e-01]],\n",
       "\n",
       "        [[-1.38002337e-01],\n",
       "         [-1.98381182e+00],\n",
       "         [-8.89705138e-01]],\n",
       "\n",
       "        [[-8.50422985e-01],\n",
       "         [-1.09574399e-01],\n",
       "         [ 5.43926570e-01]],\n",
       "\n",
       "        [[ 9.57106373e-02],\n",
       "         [ 8.08853517e-01],\n",
       "         [ 8.74230711e-01]],\n",
       "\n",
       "        [[-1.05531776e+00],\n",
       "         [-2.00484575e-01],\n",
       "         [ 1.40818124e+00]],\n",
       "\n",
       "        [[ 6.91731010e-01],\n",
       "         [-6.20231084e-01],\n",
       "         [-3.88458227e-01]],\n",
       "\n",
       "        [[ 1.43703327e-02],\n",
       "         [-1.88731991e+00],\n",
       "         [-8.23283748e-01]],\n",
       "\n",
       "        [[-4.31464041e-01],\n",
       "         [-1.45828533e+00],\n",
       "         [ 2.04438908e+00]],\n",
       "\n",
       "        [[-4.98073722e-02],\n",
       "         [ 1.45604763e-01],\n",
       "         [ 1.42076609e-01]],\n",
       "\n",
       "        [[-6.17922233e-02],\n",
       "         [-1.83329381e+00],\n",
       "         [-2.38680155e-01]],\n",
       "\n",
       "        [[ 7.94258989e-01],\n",
       "         [ 3.45464924e-01],\n",
       "         [-3.14970532e-01]],\n",
       "\n",
       "        [[ 8.34034420e-03],\n",
       "         [-2.75156814e-01],\n",
       "         [ 1.66593931e+00]],\n",
       "\n",
       "        [[ 6.36350111e-01],\n",
       "         [ 1.30002262e-01],\n",
       "         [-3.45332217e-01]],\n",
       "\n",
       "        [[-1.37126976e-01],\n",
       "         [ 7.83507298e-01],\n",
       "         [ 1.20852912e+00]],\n",
       "\n",
       "        [[ 7.24352478e-01],\n",
       "         [ 5.98478008e-01],\n",
       "         [ 3.73055455e-01]],\n",
       "\n",
       "        [[ 1.04915205e+00],\n",
       "         [-4.67080117e-01],\n",
       "         [-1.53469583e-01]],\n",
       "\n",
       "        [[ 1.89363562e-02],\n",
       "         [ 7.52142671e-01],\n",
       "         [-6.86215062e-01]],\n",
       "\n",
       "        [[-1.07428791e+00],\n",
       "         [-3.85464423e-01],\n",
       "         [-3.95943756e-01]],\n",
       "\n",
       "        [[-8.58389775e-01],\n",
       "         [ 1.34579542e+00],\n",
       "         [ 1.01641347e-01]],\n",
       "\n",
       "        [[-1.04842268e+00],\n",
       "         [-3.67569041e-01],\n",
       "         [-2.24291997e+00]],\n",
       "\n",
       "        [[-1.62480530e-01],\n",
       "         [-2.07821390e+00],\n",
       "         [ 1.24411609e+00]],\n",
       "\n",
       "        [[-8.93630774e-01],\n",
       "         [-1.28007726e-01],\n",
       "         [-2.02279537e+00]],\n",
       "\n",
       "        [[-6.30583771e-01],\n",
       "         [ 1.02022545e+00],\n",
       "         [ 4.40504635e-01]],\n",
       "\n",
       "        [[-5.49530973e-01],\n",
       "         [-7.17807007e-01],\n",
       "         [-5.53378064e-01]],\n",
       "\n",
       "        [[ 9.51116122e-02],\n",
       "         [-1.26377266e-01],\n",
       "         [-1.09203398e-01]],\n",
       "\n",
       "        [[-1.37583832e+00],\n",
       "         [ 1.09712414e-01],\n",
       "         [ 6.55159476e-01]],\n",
       "\n",
       "        [[ 5.77193702e-01],\n",
       "         [-2.29667140e-01],\n",
       "         [ 6.21973402e-01]],\n",
       "\n",
       "        [[ 1.20579805e+00],\n",
       "         [ 6.04632443e-01],\n",
       "         [ 2.26054491e+00]],\n",
       "\n",
       "        [[ 5.14089889e-01],\n",
       "         [-1.33002078e+00],\n",
       "         [ 9.88751761e-01]],\n",
       "\n",
       "        [[-1.20293925e-01],\n",
       "         [ 5.63045118e-01],\n",
       "         [-3.23784611e-01]],\n",
       "\n",
       "        [[ 4.23769928e-01],\n",
       "         [ 1.31279657e+00],\n",
       "         [-3.05333176e-02]],\n",
       "\n",
       "        [[ 5.67707690e-02],\n",
       "         [ 6.69236016e-01],\n",
       "         [ 3.52010534e-01]],\n",
       "\n",
       "        [[-5.26622294e-01],\n",
       "         [-1.85094409e-01],\n",
       "         [ 8.52353442e-01]]]])"
      ]
     },
     "execution_count": 37,
     "metadata": {},
     "output_type": "execute_result"
    }
   ],
   "source": [
    "a=np.random.randn(1,200,3,1)\n",
    "a"
   ]
  },
  {
   "cell_type": "code",
   "execution_count": 14,
   "id": "Isya-BfOXHNV",
   "metadata": {
    "id": "Isya-BfOXHNV"
   },
   "outputs": [
    {
     "data": {
      "text/plain": [
       "array([[ 0.15477881],\n",
       "       [-0.64432544],\n",
       "       [ 1.48847091]])"
      ]
     },
     "execution_count": 14,
     "metadata": {},
     "output_type": "execute_result"
    }
   ],
   "source": [
    "a[0][0]"
   ]
  },
  {
   "cell_type": "code",
   "execution_count": 27,
   "id": "27c8aa5b",
   "metadata": {},
   "outputs": [],
   "source": [
    "# for i in range(0,128):\n",
    "#     for j in range(0,3):\n",
    "#         print(a[0][i][j][0])"
   ]
  },
  {
   "cell_type": "code",
   "execution_count": 40,
   "id": "c6c753f8",
   "metadata": {},
   "outputs": [],
   "source": [
    "l1=[]\n",
    "for i in range(0,200):\n",
    "    for j in range(0,3):\n",
    "        l1.append(a[0][i][j][0])"
   ]
  },
  {
   "cell_type": "code",
   "execution_count": null,
   "id": "f8332589",
   "metadata": {
    "scrolled": false
   },
   "outputs": [],
   "source": []
  },
  {
   "cell_type": "code",
   "execution_count": 41,
   "id": "2bb0f489",
   "metadata": {},
   "outputs": [
    {
     "data": {
      "text/plain": [
       "600"
      ]
     },
     "execution_count": 41,
     "metadata": {},
     "output_type": "execute_result"
    }
   ],
   "source": [
    "len(l1)"
   ]
  },
  {
   "cell_type": "code",
   "execution_count": null,
   "id": "835d5f0b",
   "metadata": {},
   "outputs": [],
   "source": []
  },
  {
   "cell_type": "code",
   "execution_count": 2,
   "id": "f1092456",
   "metadata": {},
   "outputs": [],
   "source": [
    "pickle_off = open(\"attack_vectors.pkl\", 'rb')\n",
    "contents_pickle = pickle.load(pickle_off)\n",
    "contents_pickle[0].shape,contents_pickle[1].shape\n",
    "av_training_dataset=tf.data.Dataset.from_tensor_slices((contents_pickle[0],contents_pickle[1]))"
   ]
  },
  {
   "cell_type": "code",
   "execution_count": 9,
   "id": "96011fec",
   "metadata": {},
   "outputs": [
    {
     "data": {
      "text/plain": [
       "1"
      ]
     },
     "execution_count": 9,
     "metadata": {},
     "output_type": "execute_result"
    }
   ],
   "source": [
    "contents_pickle[1][3]"
   ]
  },
  {
   "cell_type": "code",
   "execution_count": 10,
   "id": "232c3c5e",
   "metadata": {},
   "outputs": [],
   "source": [
    "l1=[]\n",
    "for i in range(0,128):\n",
    "    for j in range(0,3):\n",
    "        l1.append(contents_pickle[0][3][i][j][0])"
   ]
  },
  {
   "cell_type": "code",
   "execution_count": null,
   "id": "69c24697",
   "metadata": {},
   "outputs": [],
   "source": []
  },
  {
   "cell_type": "code",
   "execution_count": 31,
   "id": "38972240",
   "metadata": {},
   "outputs": [
    {
     "data": {
      "text/plain": [
       "<BatchDataset shapes: ((None, 128, 3, 1), (None,)), types: (tf.float64, tf.int32)>"
      ]
     },
     "execution_count": 31,
     "metadata": {},
     "output_type": "execute_result"
    }
   ],
   "source": [
    "test_data_batch"
   ]
  },
  {
   "cell_type": "code",
   "execution_count": 56,
   "id": "5b219389",
   "metadata": {},
   "outputs": [],
   "source": [
    "l1=[]\n",
    "for iter1,j in test_data_batch:\n",
    "    l1.append(j)"
   ]
  },
  {
   "cell_type": "code",
   "execution_count": 9,
   "id": "862150d2",
   "metadata": {},
   "outputs": [],
   "source": [
    "train_data123 = av_training_dataset.map(reshape_function)\n",
    "train_data123=train_data123.batch(500)"
   ]
  },
  {
   "cell_type": "code",
   "execution_count": 10,
   "id": "b20d1660",
   "metadata": {},
   "outputs": [],
   "source": [
    "zebra=len(train_data123)"
   ]
  },
  {
   "cell_type": "code",
   "execution_count": 11,
   "id": "663bf5c8",
   "metadata": {},
   "outputs": [
    {
     "data": {
      "text/plain": [
       "2"
      ]
     },
     "execution_count": 11,
     "metadata": {},
     "output_type": "execute_result"
    }
   ],
   "source": [
    "a=np.random.randint(0,3)\n",
    "a"
   ]
  },
  {
   "cell_type": "code",
   "execution_count": 18,
   "id": "980999a3",
   "metadata": {},
   "outputs": [
    {
     "data": {
      "text/plain": [
       "8400"
      ]
     },
     "execution_count": 18,
     "metadata": {},
     "output_type": "execute_result"
    }
   ],
   "source": [
    "count"
   ]
  },
  {
   "cell_type": "code",
   "execution_count": 31,
   "id": "f2d122c2",
   "metadata": {},
   "outputs": [
    {
     "data": {
      "text/plain": [
       "10"
      ]
     },
     "execution_count": 31,
     "metadata": {},
     "output_type": "execute_result"
    }
   ],
   "source": [
    "len(model.layers)"
   ]
  },
  {
   "cell_type": "code",
   "execution_count": 41,
   "id": "b9455e5b",
   "metadata": {},
   "outputs": [
    {
     "data": {
      "text/plain": [
       "2"
      ]
     },
     "execution_count": 41,
     "metadata": {},
     "output_type": "execute_result"
    }
   ],
   "source": [
    "len(def_model.layers)"
   ]
  },
  {
   "cell_type": "code",
   "execution_count": 51,
   "id": "3b7f9c46",
   "metadata": {},
   "outputs": [
    {
     "data": {
      "text/plain": [
       "118"
      ]
     },
     "execution_count": 51,
     "metadata": {},
     "output_type": "execute_result"
    }
   ],
   "source": []
  },
  {
   "cell_type": "code",
   "execution_count": 64,
   "id": "ba0434c1",
   "metadata": {},
   "outputs": [],
   "source": [
    "orig_data=next(test_data.batch(9000).as_numpy_iterator())[1]"
   ]
  },
  {
   "cell_type": "code",
   "execution_count": 67,
   "id": "d2ae4312",
   "metadata": {},
   "outputs": [
    {
     "data": {
      "text/plain": [
       "1"
      ]
     },
     "execution_count": 67,
     "metadata": {},
     "output_type": "execute_result"
    }
   ],
   "source": []
  },
  {
   "cell_type": "code",
   "execution_count": null,
   "id": "a991e365",
   "metadata": {},
   "outputs": [],
   "source": []
  },
  {
   "cell_type": "code",
   "execution_count": null,
   "id": "b2e20385",
   "metadata": {},
   "outputs": [],
   "source": []
  }
 ],
 "metadata": {
  "colab": {
   "name": "attack-test-original_tflite_quantized.ipynb",
   "provenance": []
  },
  "kernelspec": {
   "display_name": "Python 3",
   "language": "python",
   "name": "python3"
  },
  "language_info": {
   "codemirror_mode": {
    "name": "ipython",
    "version": 3
   },
   "file_extension": ".py",
   "mimetype": "text/x-python",
   "name": "python",
   "nbconvert_exporter": "python",
   "pygments_lexer": "ipython3",
   "version": "3.8.8"
  }
 },
 "nbformat": 4,
 "nbformat_minor": 5
}
