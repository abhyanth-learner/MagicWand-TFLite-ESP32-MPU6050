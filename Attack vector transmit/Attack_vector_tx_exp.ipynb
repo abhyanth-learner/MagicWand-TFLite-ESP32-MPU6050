{
 "cells": [
  {
   "cell_type": "code",
   "execution_count": 32,
   "metadata": {},
   "outputs": [],
   "source": [
    "import serial\n",
    "import numpy as np\n",
    "import time\n",
    "ch=\"x\"\n",
    "ser_master = serial.Serial('COM6',115200,timeout=.1)\n",
    "ser_master.flush()\n",
    "for i in range (0,128):\n",
    "    if(ch==\"x\"):\n",
    "        x=round(np.random.randn(1)[0],2)\n",
    "        x=str(\"x\"+str(x))\n",
    "        ser_master.write(bytes(x, 'utf-8'))\n",
    "        ch=\"y\"\n",
    "#         ser_master.flush()\n",
    "        time.sleep(1)\n",
    "    if(ch==\"y\"):\n",
    "        y=round(np.random.randn(1)[0],2)\n",
    "        y=str(\"y\"+str(y))\n",
    "        ser_master.write(bytes(y, 'utf-8'))\n",
    "        ch=\"z\"\n",
    "#         ser_master.flush()\n",
    "        time.sleep(1)\n",
    "        \n",
    "    if(ch==\"z\"):\n",
    "        z=round(np.random.randn(1)[0],2)\n",
    "        z=str(\"z\"+str(z))\n",
    "        ser_master.write(bytes(z, 'utf-8'))\n",
    "        ch=\"x\"\n",
    "#         ser_master.flush()\n",
    "        time.sleep(1)\n",
    "        \n",
    "\n",
    "\n",
    "\n",
    "ser_master.close()\n"
   ]
  },
  {
   "cell_type": "code",
   "execution_count": 16,
   "metadata": {},
   "outputs": [],
   "source": [
    "ser_master.close()"
   ]
  },
  {
   "cell_type": "code",
   "execution_count": 7,
   "metadata": {},
   "outputs": [
    {
     "data": {
      "text/plain": [
       "0.22360504663947267"
      ]
     },
     "execution_count": 7,
     "metadata": {},
     "output_type": "execute_result"
    }
   ],
   "source": [
    "import serial\n",
    "import numpy as np\n",
    "import time\n",
    "z=np.random.rand(1)[0]\n",
    "z"
   ]
  },
  {
   "cell_type": "code",
   "execution_count": null,
   "metadata": {},
   "outputs": [],
   "source": []
  },
  {
   "cell_type": "code",
   "execution_count": null,
   "metadata": {},
   "outputs": [],
   "source": []
  }
 ],
 "metadata": {
  "kernelspec": {
   "display_name": "Python 3",
   "language": "python",
   "name": "python3"
  },
  "language_info": {
   "codemirror_mode": {
    "name": "ipython",
    "version": 3
   },
   "file_extension": ".py",
   "mimetype": "text/x-python",
   "name": "python",
   "nbconvert_exporter": "python",
   "pygments_lexer": "ipython3",
   "version": "3.8.8"
  }
 },
 "nbformat": 4,
 "nbformat_minor": 4
}
