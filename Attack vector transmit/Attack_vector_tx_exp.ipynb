{
 "cells": [
  {
   "cell_type": "code",
   "execution_count": 35,
   "metadata": {},
   "outputs": [],
   "source": [
    "import serial\n",
    "import numpy as np\n",
    "import time\n",
    "ch=\"x\"\n",
    "ser_master = serial.Serial('COM6',115200,timeout=.1)\n",
    "ser_master.flush()\n",
    "for i in range (0,1):\n",
    "    if(ch==\"x\"):\n",
    "        x=round(np.random.randn(1)[0],2)\n",
    "        x=str(\"x\"+str(x))\n",
    "        ser_master.write(bytes(x, 'utf-8'))\n",
    "        ch=\"y\"\n",
    "        time.sleep(1)\n",
    "#         ser_master.flush()\n",
    "    \n",
    "    if(ch==\"y\"):\n",
    "        y=round(np.random.randn(1)[0],2)\n",
    "        y=str(\"y\"+str(y))\n",
    "        ser_master.write(bytes(y, 'utf-8'))\n",
    "        ch=\"z\"\n",
    "        time.sleep(1)\n",
    "#         ser_master.flush()\n",
    "    if(ch==\"z\"):\n",
    "        z=round(np.random.randn(1)[0],2)\n",
    "        z=str(\"z\"+str(z))\n",
    "        ser_master.write(bytes(z, 'utf-8'))\n",
    "        ch=\"x\"\n",
    "#         time.sleep(1)\n",
    "#         ser_master.flush()\n",
    "\n",
    "\n",
    "\n",
    "ser_master.close()\n"
   ]
  },
  {
   "cell_type": "code",
   "execution_count": 30,
   "metadata": {},
   "outputs": [],
   "source": [
    "ser_master.close()"
   ]
  },
  {
   "cell_type": "code",
   "execution_count": null,
   "metadata": {},
   "outputs": [],
   "source": []
  }
 ],
 "metadata": {
  "kernelspec": {
   "display_name": "Python 3",
   "language": "python",
   "name": "python3"
  },
  "language_info": {
   "codemirror_mode": {
    "name": "ipython",
    "version": 3
   },
   "file_extension": ".py",
   "mimetype": "text/x-python",
   "name": "python",
   "nbconvert_exporter": "python",
   "pygments_lexer": "ipython3",
   "version": "3.8.3"
  }
 },
 "nbformat": 4,
 "nbformat_minor": 4
}
