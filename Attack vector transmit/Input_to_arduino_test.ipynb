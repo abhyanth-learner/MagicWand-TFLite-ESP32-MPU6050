{
 "cells": [
  {
   "cell_type": "code",
   "execution_count": null,
   "id": "b39dda9e",
   "metadata": {},
   "outputs": [],
   "source": [
    "import serial\n",
    "ser_master = serial.Serial('COM6',115200,timeout=.1)\n",
    "ser_slave = serial.Serial('COM5',115200,timeout=.1)\n",
    "for i in range(1,51):\n",
    "    ser_master.write(b\"1\")\n",
    "    val = str(ser_slave.readline().decode().strip('\\r\\n'))\n",
    "    print(val)\n",
    "ser_master.close()\n",
    "ser_slave.close()"
   ]
  },
  {
   "cell_type": "code",
   "execution_count": 163,
   "id": "66199eb5",
   "metadata": {},
   "outputs": [
    {
     "name": "stdout",
     "output_type": "stream",
     "text": [
      "b''\n"
     ]
    }
   ],
   "source": [
    "import serial\n",
    "import time\n",
    "ser_master = serial.Serial('COM6',115200,timeout=.1)\n",
    "# ser_slave = serial.Serial('COM8',115200,timeout=.1)\n",
    "x=str(\"x\"+str(9.84))\n",
    "ser_master.write(bytes(x, 'utf-8'))\n",
    "time.sleep(1)\n",
    "ser_master.flush()\n",
    "y=str(\"y\"+str(2.55))\n",
    "ser_master.write(bytes(y, 'utf-8'))\n",
    "time.sleep(1)\n",
    "ser_master.flush()\n",
    "z=str(\"z\"+str(99.66))\n",
    "ser_master.write(bytes(z, 'utf-8'))\n",
    "# time.sleep(1)\n",
    "ser_master.flush()\n",
    "# val =ser_slave.readline()\n",
    "print(val) \n",
    "ser_master.close()\n",
    "ser_slave.close()"
   ]
  },
  {
   "cell_type": "code",
   "execution_count": 149,
   "id": "9c11052f",
   "metadata": {},
   "outputs": [],
   "source": [
    "ser_master.close()\n",
    "ser_slave.close()"
   ]
  },
  {
   "cell_type": "code",
   "execution_count": 99,
   "id": "31f3937b",
   "metadata": {},
   "outputs": [
    {
     "name": "stdout",
     "output_type": "stream",
     "text": [
      "b''\n",
      "b''\n",
      "b''\n"
     ]
    }
   ],
   "source": [
    "# import serial\n",
    "# import struct\n",
    "# ser_master = serial.Serial('COM6',115200,timeout=.1)\n",
    "# ser_slave = serial.Serial('COM8',115200,timeout=.1)\n",
    "# ser_master.write(b\"z1.83\")\n",
    "\n",
    "# data = str(ser_slave.read())\n",
    "# data1 = ser_slave.read(8)\n",
    "# data2 = ser_slave.read(8)\n",
    "\n",
    "# # f_data, = struct.unpack('f',data)\n",
    "# print (data)\n",
    "# print (data1)\n",
    "# print (data2)\n",
    "#     #time.sleep(0.5)"
   ]
  },
  {
   "cell_type": "code",
   "execution_count": 121,
   "id": "5588141a",
   "metadata": {},
   "outputs": [],
   "source": [
    "ser_master.close()\n",
    "ser_slave.close()"
   ]
  },
  {
   "cell_type": "code",
   "execution_count": null,
   "id": "b54ee656",
   "metadata": {},
   "outputs": [],
   "source": []
  }
 ],
 "metadata": {
  "kernelspec": {
   "display_name": "Python 3",
   "language": "python",
   "name": "python3"
  },
  "language_info": {
   "codemirror_mode": {
    "name": "ipython",
    "version": 3
   },
   "file_extension": ".py",
   "mimetype": "text/x-python",
   "name": "python",
   "nbconvert_exporter": "python",
   "pygments_lexer": "ipython3",
   "version": "3.8.8"
  }
 },
 "nbformat": 4,
 "nbformat_minor": 5
}
