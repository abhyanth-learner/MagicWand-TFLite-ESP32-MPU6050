{
 "cells": [
  {
   "cell_type": "code",
   "execution_count": 53,
   "id": "95b7651b",
   "metadata": {},
   "outputs": [],
   "source": [
    "import random\n",
    "# l1=[\"slope\",\"ring\",\"wing\"]\n",
    "# names = [\"stefan\",\"patrick\",\"justin\",\"yeongmi\",\"arthur\",\"kai\",\"nico\"]\n",
    "File_object = open(r\"testing.txt\",\"a\")\n",
    "for i in range(1,6):\n",
    "    File_object.write('-,-,-')\n",
    "    File_object.write(\"\\n\")    \n",
    "    for i in range(1,40):\n",
    "        xaxis=round(random.uniform(-10, 10),2)\n",
    "        yaxis=round(random.uniform(-10, 10),2)\n",
    "        zaxis=round(random.uniform(-10, 10),2)\n",
    "        axis=str(xaxis)+','+str(yaxis)+','+str(zaxis)\n",
    "        File_object.write(axis)\n",
    "        File_object.write(\"\\n\")\n",
    "    File_object.write(\"\\n\")\n",
    "    File_object.write(\"\\n\")\n",
    "    File_object.write(\"\\n\")\n",
    "    File_object.write(\"\\n\")\n",
    "File_object.close()"
   ]
  },
  {
   "cell_type": "code",
   "execution_count": 40,
   "id": "98406500",
   "metadata": {},
   "outputs": [
    {
     "name": "stdout",
     "output_type": "stream",
     "text": [
      "-2.61,-8.15,2.48\n"
     ]
    }
   ],
   "source": [
    "xaxis=round(random.uniform(-10, 10),2)\n",
    "yaxis=round(random.uniform(-10, 10),2)\n",
    "zaxis=round(random.uniform(-10, 10),2)\n",
    "axis=str(xaxis)+','+str(yaxis)+','+str(zaxis)\n",
    "print(axis)"
   ]
  },
  {
   "cell_type": "code",
   "execution_count": null,
   "id": "65d19c0a",
   "metadata": {},
   "outputs": [],
   "source": [
    "\n",
    "LABEL_NAME = \"gesture\"\n",
    "DATA_NAME = \"accel_ms2_xyz\"\n",
    "folders = [\"wing\", \"ring\", \"slope\"]\n",
    "names = [\n",
    "    \"stefan\",\n",
    "    \"patrick\",\n",
    "    \"justin\",\n",
    "    \"yeongmi\"\n",
    "    \"arthur\",\n",
    "    \"kai\",\n",
    "    \"nico\"\n",
    "]\n",
    "\n",
    "data = []  # pylint: disable=redefined-outer-name\n",
    "for idx1, folder in enumerate(folders):\n",
    "  for idx2, name in enumerate(names):\n",
    "    prepare_original_data(folder, name, data,\n",
    "                          \"./data/%s/output_%s_%s.txt\" % (folder, folder, name))\n",
    "\n",
    "\n",
    "data = []  # pylint: disable=redefined-outer-name\n",
    "for idx1, folder in enumerate(folders):\n",
    "  for idx2, name in enumerate(names):\n",
    "    prepare_original_data(folder, name, data,\n",
    "                          \"./data/%s/output_%s_%s.txt\" % (folder, folder, name))\n",
    "LABEL_NAME = \"gesture\"\n",
    "DATA_NAME = \"accel_ms2_xyz\"\n",
    "folders = [\"wing\", \"ring\", \"slope\"]\n",
    "names = [\n",
    "    \"stefan\",\n",
    "    \"patrick\",\n",
    "    \"justin\",\n",
    "    \"yeongmi\"\n",
    "    \"arthur\",\n",
    "    \"kai\",\n",
    "    \"nico\"\n",
    "]\n",
    "\n",
    "data = []  # pylint: disable=redefined-outer-name\n",
    "for idx1, folder in enumerate(folders):\n",
    "  for idx2, name in enumerate(names):\n",
    "    prepare_original_data(folder, name, data,\n",
    "                          \"./data/%s/output_%s_%s.txt\" % (folder, folder, name))"
   ]
  },
  {
   "cell_type": "code",
   "execution_count": null,
   "id": "5c8f357a",
   "metadata": {},
   "outputs": [],
   "source": []
  }
 ],
 "metadata": {
  "kernelspec": {
   "display_name": "Python 3",
   "language": "python",
   "name": "python3"
  },
  "language_info": {
   "codemirror_mode": {
    "name": "ipython",
    "version": 3
   },
   "file_extension": ".py",
   "mimetype": "text/x-python",
   "name": "python",
   "nbconvert_exporter": "python",
   "pygments_lexer": "ipython3",
   "version": "3.8.8"
  }
 },
 "nbformat": 4,
 "nbformat_minor": 5
}
