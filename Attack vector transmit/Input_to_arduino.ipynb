{
 "cells": [
  {
   "cell_type": "code",
   "execution_count": null,
   "id": "923fafd8",
   "metadata": {},
   "outputs": [],
   "source": [
    "import serial\n",
    "ser_master = serial.Serial('COM6',115200,timeout=.1)\n",
    "ser_slave = serial.Serial('COM5',115200,timeout=.1)\n",
    "for i in range(1,51):\n",
    "    ser_master.write(b\"1\")\n",
    "    val = str(ser_slave.readline().decode().strip('\\r\\n'))\n",
    "    print(val)\n",
    "ser_master.close()\n",
    "ser_slave.close()"
   ]
  },
  {
   "cell_type": "code",
   "execution_count": 12,
   "id": "9f739ef3",
   "metadata": {},
   "outputs": [],
   "source": [
    "import serial\n",
    "ser_master = serial.Serial('COM6',115200,timeout=.1)\n",
    "# ser_slave = serial.Serial('COM6',115200,timeout=.1)\n",
    "ser_master.write(b\"z1.89\")\n",
    "ser_master.write(b\"x1.88\")\n",
    "ser_master.write(b\"zy1.87\")\n",
    "# val = ser_slave.readline().decode().strip('\\r\\n')\n",
    "# print(val)\n",
    "ser_master.close()"
   ]
  },
  {
   "cell_type": "code",
   "execution_count": 9,
   "id": "b261ddd1",
   "metadata": {},
   "outputs": [],
   "source": [
    "ser_master.close()\n",
    "# ser_slave.close()"
   ]
  },
  {
   "cell_type": "code",
   "execution_count": null,
   "id": "8776dd1b",
   "metadata": {},
   "outputs": [],
   "source": []
  },
  {
   "cell_type": "code",
   "execution_count": null,
   "id": "fe949a87",
   "metadata": {},
   "outputs": [],
   "source": []
  },
  {
   "cell_type": "code",
   "execution_count": null,
   "id": "6ba6597e",
   "metadata": {},
   "outputs": [],
   "source": []
  },
  {
   "cell_type": "code",
   "execution_count": null,
   "id": "90cbed09",
   "metadata": {},
   "outputs": [],
   "source": []
  }
 ],
 "metadata": {
  "kernelspec": {
   "display_name": "Python 3",
   "language": "python",
   "name": "python3"
  },
  "language_info": {
   "codemirror_mode": {
    "name": "ipython",
    "version": 3
   },
   "file_extension": ".py",
   "mimetype": "text/x-python",
   "name": "python",
   "nbconvert_exporter": "python",
   "pygments_lexer": "ipython3",
   "version": "3.8.8"
  }
 },
 "nbformat": 4,
 "nbformat_minor": 5
}
